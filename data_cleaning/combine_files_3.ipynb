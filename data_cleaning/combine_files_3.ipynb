{
 "nbformat": 4,
 "nbformat_minor": 2,
 "metadata": {
  "language_info": {
   "name": "python",
   "codemirror_mode": {
    "name": "ipython",
    "version": 3
   },
   "version": "3.7.6-final"
  },
  "orig_nbformat": 2,
  "file_extension": ".py",
  "mimetype": "text/x-python",
  "name": "python",
  "npconvert_exporter": "python",
  "pygments_lexer": "ipython3",
  "version": 3,
  "kernelspec": {
   "name": "python37664bitckidscondaeba5e997e95d433391cca1cee29345d7",
   "display_name": "Python 3.7.6 64-bit ('ckids': conda)"
  }
 },
 "cells": [
  {
   "cell_type": "code",
   "execution_count": 1,
   "metadata": {},
   "outputs": [],
   "source": [
    "import lzma\n",
    "import json\n",
    "import pandas as pd\n",
    "import numpy as np\n",
    "import re\n",
    "import glob\n",
    "import os\n",
    "import sys\n",
    "import multiprocessing as mp\n",
    "import pickle"
   ]
  },
  {
   "cell_type": "code",
   "execution_count": 3,
   "metadata": {},
   "outputs": [],
   "source": [
    "os.chdir(r\"C:\\Users\\erica\\OneDrive - University of Southern California\\Projects_at_USC\\CKIDS_current\\data\\loc_data_3\")"
   ]
  },
  {
   "cell_type": "code",
   "execution_count": 4,
   "metadata": {},
   "outputs": [
    {
     "output_type": "execute_result",
     "data": {
      "text/plain": "'C:\\\\Users\\\\erica\\\\OneDrive - University of Southern California\\\\Projects_at_USC\\\\CKIDS_current\\\\data\\\\loc_data_3'"
     },
     "metadata": {},
     "execution_count": 4
    }
   ],
   "source": [
    "os.getcwd()"
   ]
  },
  {
   "cell_type": "code",
   "execution_count": 5,
   "metadata": {},
   "outputs": [
    {
     "output_type": "stream",
     "name": "stdout",
     "text": "250\n217\n251\n106\n424\n"
    }
   ],
   "source": [
    "# lists of file names\n",
    "# json xz\n",
    "json_files = glob.glob(\"*_UTC.json\")\n",
    "# descrip txts\n",
    "txt_files = glob.glob(\"*_UTC.txt\")\n",
    "# location txts\n",
    "loc_files = glob.glob(\"*_location.txt\")\n",
    "# comments jsons\n",
    "cmt_files = glob.glob(\"*_comments.json\")\n",
    "# num of jpgs\n",
    "jpg_files = glob.glob(\"*.jpg\")\n",
    "\n",
    "\n",
    "\n",
    "print(len(json_files))\n",
    "print(len(txt_files))\n",
    "print(len(loc_files))\n",
    "print(len(cmt_files))\n",
    "print(len(jpg_files))"
   ]
  },
  {
   "cell_type": "code",
   "execution_count": 7,
   "metadata": {
    "tags": [
     "outputPrepend",
     "outputPrepend",
     "outputPrepend",
     "outputPrepend",
     "outputPrepend",
     "outputPrepend",
     "outputPrepend",
     "outputPrepend",
     "outputPrepend",
     "outputPrepend",
     "outputPrepend",
     "outputPrepend",
     "outputPrepend",
     "outputPrepend",
     "outputPrepend",
     "outputPrepend",
     "outputPrepend",
     "outputPrepend",
     "outputPrepend",
     "outputPrepend",
     "outputPrepend",
     "outputPrepend",
     "outputPrepend",
     "outputPrepend",
     "outputPrepend",
     "outputPrepend",
     "outputPrepend",
     "outputPrepend",
     "outputPrepend",
     "outputPrepend",
     "outputPrepend",
     "outputPrepend",
     "outputPrepend",
     "outputPrepend",
     "outputPrepend",
     "outputPrepend",
     "outputPrepend",
     "outputPrepend",
     "outputPrepend",
     "outputPrepend",
     "outputPrepend",
     "outputPrepend",
     "outputPrepend",
     "outputPrepend",
     "outputPrepend",
     "outputPrepend",
     "outputPrepend",
     "outputPrepend",
     "outputPrepend",
     "outputPrepend",
     "outputPrepend",
     "outputPrepend",
     "outputPrepend",
     "outputPrepend",
     "outputPrepend",
     "outputPrepend",
     "outputPrepend",
     "outputPrepend",
     "outputPrepend",
     "outputPrepend",
     "outputPrepend",
     "outputPrepend",
     "outputPrepend",
     "outputPrepend",
     "outputPrepend",
     "outputPrepend",
     "outputPrepend",
     "outputPrepend",
     "outputPrepend",
     "outputPrepend",
     "outputPrepend",
     "outputPrepend",
     "outputPrepend",
     "outputPrepend",
     "outputPrepend",
     "outputPrepend",
     "outputPrepend",
     "outputPrepend",
     "outputPrepend",
     "outputPrepend",
     "outputPrepend",
     "outputPrepend",
     "outputPrepend",
     "outputPrepend",
     "outputPrepend",
     "outputPrepend",
     "outputPrepend",
     "outputPrepend",
     "outputPrepend",
     "outputPrepend",
     "outputPrepend",
     "outputPrepend",
     "outputPrepend",
     "outputPrepend",
     "outputPrepend",
     "outputPrepend",
     "outputPrepend",
     "outputPrepend",
     "outputPrepend",
     "outputPrepend",
     "outputPrepend",
     "outputPrepend",
     "outputPrepend",
     "outputPrepend",
     "outputPrepend",
     "outputPrepend",
     "outputPrepend",
     "outputPrepend",
     "outputPrepend",
     "outputPrepend",
     "outputPrepend",
     "outputPrepend"
    ]
   },
   "outputs": [],
   "source": [
    "# Add all json files to a dataframe\n",
    "temp = pd.DataFrame()\n",
    "\n",
    "path_to_json = r'C:\\Users\\erica\\OneDrive - University of Southern California\\Projects_at_USC\\CKIDS_current\\data\\loc_data_3' \n",
    "\n",
    "json_pattern = os.path.join(path_to_json,'*_UTC.json')\n",
    "file_list = glob.glob(json_pattern)\n",
    "\n",
    "for file in json_files:\n",
    "    # print(file)\n",
    "    data = pd.read_json(file, orient=str)\n",
    "    postnode = data['node']\n",
    "    temp = temp.append(postnode, ignore_index = True)"
   ]
  },
  {
   "cell_type": "code",
   "execution_count": 8,
   "metadata": {},
   "outputs": [
    {
     "output_type": "execute_result",
     "data": {
      "text/plain": "(250, 50)"
     },
     "metadata": {},
     "execution_count": 8
    }
   ],
   "source": [
    "temp.shape"
   ]
  },
  {
   "cell_type": "code",
   "execution_count": 9,
   "metadata": {},
   "outputs": [
    {
     "output_type": "execute_result",
     "data": {
      "text/plain": "   __typename                              accessibility_caption  \\\n0  GraphImage  Photo by Francisco Bugarin in Umami Burger. Im...   \n1  GraphImage         Photo by Panterra Caraway in Umami Burger.   \n2  GraphImage  Photo by Anaheim Packing District in Umami Bur...   \n\n   caption_is_edited  commenting_disabled_for_viewer  comments_disabled  \\\n0                0.0                             0.0                0.0   \n1                0.0                             0.0                0.0   \n2                1.0                             0.0                0.0   \n\n                        dimensions  \\\n0   {'height': 810, 'width': 1080}   \n1  {'height': 1080, 'width': 1080}   \n2  {'height': 1080, 'width': 1080}   \n\n                                   display_resources  \\\n0  [{'config_height': 480, 'config_width': 640, '...   \n1  [{'config_height': 640, 'config_width': 640, '...   \n2  [{'config_height': 640, 'config_width': 640, '...   \n\n                                         display_url   edge_liked_by  \\\n0  https://scontent-sjc3-1.cdninstagram.com/v/t51...   {'count': 14}   \n1  https://scontent-sjc3-1.cdninstagram.com/v/t51...   {'count': 10}   \n2  https://scontent-sjc3-1.cdninstagram.com/v/t51...  {'count': 332}   \n\n  edge_media_preview_comment  ... viewer_in_photo_of_you dash_info  \\\n0  {'count': 0, 'edges': []}  ...                    0.0       NaN   \n1  {'count': 0, 'edges': []}  ...                    0.0       NaN   \n2  {'count': 0, 'edges': []}  ...                    0.0       NaN   \n\n  encoding_status is_published product_type title video_duration video_url  \\\n0             NaN          NaN          NaN   NaN            NaN       NaN   \n1             NaN          NaN          NaN   NaN            NaN       NaN   \n2             NaN          NaN          NaN   NaN            NaN       NaN   \n\n  video_view_count edge_sidecar_to_children  \n0              NaN                      NaN  \n1              NaN                      NaN  \n2              NaN                      NaN  \n\n[3 rows x 50 columns]",
      "text/html": "<div>\n<style scoped>\n    .dataframe tbody tr th:only-of-type {\n        vertical-align: middle;\n    }\n\n    .dataframe tbody tr th {\n        vertical-align: top;\n    }\n\n    .dataframe thead th {\n        text-align: right;\n    }\n</style>\n<table border=\"1\" class=\"dataframe\">\n  <thead>\n    <tr style=\"text-align: right;\">\n      <th></th>\n      <th>__typename</th>\n      <th>accessibility_caption</th>\n      <th>caption_is_edited</th>\n      <th>commenting_disabled_for_viewer</th>\n      <th>comments_disabled</th>\n      <th>dimensions</th>\n      <th>display_resources</th>\n      <th>display_url</th>\n      <th>edge_liked_by</th>\n      <th>edge_media_preview_comment</th>\n      <th>...</th>\n      <th>viewer_in_photo_of_you</th>\n      <th>dash_info</th>\n      <th>encoding_status</th>\n      <th>is_published</th>\n      <th>product_type</th>\n      <th>title</th>\n      <th>video_duration</th>\n      <th>video_url</th>\n      <th>video_view_count</th>\n      <th>edge_sidecar_to_children</th>\n    </tr>\n  </thead>\n  <tbody>\n    <tr>\n      <th>0</th>\n      <td>GraphImage</td>\n      <td>Photo by Francisco Bugarin in Umami Burger. Im...</td>\n      <td>0.0</td>\n      <td>0.0</td>\n      <td>0.0</td>\n      <td>{'height': 810, 'width': 1080}</td>\n      <td>[{'config_height': 480, 'config_width': 640, '...</td>\n      <td>https://scontent-sjc3-1.cdninstagram.com/v/t51...</td>\n      <td>{'count': 14}</td>\n      <td>{'count': 0, 'edges': []}</td>\n      <td>...</td>\n      <td>0.0</td>\n      <td>NaN</td>\n      <td>NaN</td>\n      <td>NaN</td>\n      <td>NaN</td>\n      <td>NaN</td>\n      <td>NaN</td>\n      <td>NaN</td>\n      <td>NaN</td>\n      <td>NaN</td>\n    </tr>\n    <tr>\n      <th>1</th>\n      <td>GraphImage</td>\n      <td>Photo by Panterra Caraway in Umami Burger.</td>\n      <td>0.0</td>\n      <td>0.0</td>\n      <td>0.0</td>\n      <td>{'height': 1080, 'width': 1080}</td>\n      <td>[{'config_height': 640, 'config_width': 640, '...</td>\n      <td>https://scontent-sjc3-1.cdninstagram.com/v/t51...</td>\n      <td>{'count': 10}</td>\n      <td>{'count': 0, 'edges': []}</td>\n      <td>...</td>\n      <td>0.0</td>\n      <td>NaN</td>\n      <td>NaN</td>\n      <td>NaN</td>\n      <td>NaN</td>\n      <td>NaN</td>\n      <td>NaN</td>\n      <td>NaN</td>\n      <td>NaN</td>\n      <td>NaN</td>\n    </tr>\n    <tr>\n      <th>2</th>\n      <td>GraphImage</td>\n      <td>Photo by Anaheim Packing District in Umami Bur...</td>\n      <td>1.0</td>\n      <td>0.0</td>\n      <td>0.0</td>\n      <td>{'height': 1080, 'width': 1080}</td>\n      <td>[{'config_height': 640, 'config_width': 640, '...</td>\n      <td>https://scontent-sjc3-1.cdninstagram.com/v/t51...</td>\n      <td>{'count': 332}</td>\n      <td>{'count': 0, 'edges': []}</td>\n      <td>...</td>\n      <td>0.0</td>\n      <td>NaN</td>\n      <td>NaN</td>\n      <td>NaN</td>\n      <td>NaN</td>\n      <td>NaN</td>\n      <td>NaN</td>\n      <td>NaN</td>\n      <td>NaN</td>\n      <td>NaN</td>\n    </tr>\n  </tbody>\n</table>\n<p>3 rows × 50 columns</p>\n</div>"
     },
     "metadata": {},
     "execution_count": 9
    }
   ],
   "source": [
    "temp.head(3)"
   ]
  },
  {
   "cell_type": "code",
   "execution_count": 10,
   "metadata": {},
   "outputs": [],
   "source": [
    "json_fnames = [f.split('.json')[0] for f in json_files]\n",
    "json_fnamesS = pd.Series(json_fnames)\n",
    "temp['file_name'] = json_fnamesS"
   ]
  },
  {
   "cell_type": "code",
   "execution_count": 11,
   "metadata": {},
   "outputs": [
    {
     "output_type": "stream",
     "name": "stdout",
     "text": "(167, 51)\n"
    }
   ],
   "source": [
    "temp2 = temp[temp['__typename'] == \"GraphImage\"]\n",
    "print(temp2.shape)"
   ]
  },
  {
   "cell_type": "code",
   "execution_count": 12,
   "metadata": {},
   "outputs": [],
   "source": [
    "# temp2.columns"
   ]
  },
  {
   "cell_type": "code",
   "execution_count": 13,
   "metadata": {},
   "outputs": [],
   "source": [
    "# temp2.iloc[0]"
   ]
  },
  {
   "cell_type": "code",
   "execution_count": 14,
   "metadata": {},
   "outputs": [],
   "source": [
    "df = temp2[['file_name', 'accessibility_caption', 'display_url', 'edge_liked_by', 'id', 'is_ad', 'location', 'owner', 'taken_at_timestamp']]"
   ]
  },
  {
   "cell_type": "code",
   "execution_count": 15,
   "metadata": {},
   "outputs": [
    {
     "output_type": "execute_result",
     "data": {
      "text/plain": "                 file_name                              accessibility_caption  \\\n0  2020-02-01_20-20-34_UTC  Photo by Francisco Bugarin in Umami Burger. Im...   \n1  2020-02-02_01-20-04_UTC         Photo by Panterra Caraway in Umami Burger.   \n2  2020-02-03_01-00-35_UTC  Photo by Anaheim Packing District in Umami Bur...   \n3  2020-02-03_02-03-10_UTC  Photo by 100% VEGAN FAMILY in Umami Burger wit...   \n4  2020-02-03_23-41-46_UTC  Photo by Rosendo Herrera in Umami Burger. Imag...   \n\n                                         display_url   edge_liked_by  \\\n0  https://scontent-sjc3-1.cdninstagram.com/v/t51...   {'count': 14}   \n1  https://scontent-sjc3-1.cdninstagram.com/v/t51...   {'count': 10}   \n2  https://scontent-sjc3-1.cdninstagram.com/v/t51...  {'count': 332}   \n3  https://scontent-sjc3-1.cdninstagram.com/v/t51...   {'count': 46}   \n4  https://scontent-sjc3-1.cdninstagram.com/v/t51...   {'count': 11}   \n\n                    id  is_ad  \\\n0  2234460196022214179    0.0   \n1  2234610938626187438    0.0   \n2  2235325885460691420    0.0   \n3  2235357414060560846    0.0   \n4  2236011019983973241    0.0   \n\n                                            location  \\\n0  {'has_public_page': True, 'id': 142724889, 'la...   \n1  {'has_public_page': True, 'id': 214098779, 'la...   \n2  {'has_public_page': True, 'id': 19002234, 'lat...   \n3  {'has_public_page': True, 'id': 19002234, 'lat...   \n4  {'has_public_page': True, 'id': 321424183, 'la...   \n\n                                               owner  taken_at_timestamp  \n0  {'blocked_by_viewer': False, 'edge_owner_to_ti...        1.580588e+09  \n1  {'blocked_by_viewer': False, 'edge_owner_to_ti...        1.580606e+09  \n2  {'blocked_by_viewer': False, 'edge_owner_to_ti...        1.580692e+09  \n3  {'blocked_by_viewer': False, 'edge_owner_to_ti...        1.580695e+09  \n4  {'blocked_by_viewer': False, 'edge_owner_to_ti...        1.580773e+09  ",
      "text/html": "<div>\n<style scoped>\n    .dataframe tbody tr th:only-of-type {\n        vertical-align: middle;\n    }\n\n    .dataframe tbody tr th {\n        vertical-align: top;\n    }\n\n    .dataframe thead th {\n        text-align: right;\n    }\n</style>\n<table border=\"1\" class=\"dataframe\">\n  <thead>\n    <tr style=\"text-align: right;\">\n      <th></th>\n      <th>file_name</th>\n      <th>accessibility_caption</th>\n      <th>display_url</th>\n      <th>edge_liked_by</th>\n      <th>id</th>\n      <th>is_ad</th>\n      <th>location</th>\n      <th>owner</th>\n      <th>taken_at_timestamp</th>\n    </tr>\n  </thead>\n  <tbody>\n    <tr>\n      <th>0</th>\n      <td>2020-02-01_20-20-34_UTC</td>\n      <td>Photo by Francisco Bugarin in Umami Burger. Im...</td>\n      <td>https://scontent-sjc3-1.cdninstagram.com/v/t51...</td>\n      <td>{'count': 14}</td>\n      <td>2234460196022214179</td>\n      <td>0.0</td>\n      <td>{'has_public_page': True, 'id': 142724889, 'la...</td>\n      <td>{'blocked_by_viewer': False, 'edge_owner_to_ti...</td>\n      <td>1.580588e+09</td>\n    </tr>\n    <tr>\n      <th>1</th>\n      <td>2020-02-02_01-20-04_UTC</td>\n      <td>Photo by Panterra Caraway in Umami Burger.</td>\n      <td>https://scontent-sjc3-1.cdninstagram.com/v/t51...</td>\n      <td>{'count': 10}</td>\n      <td>2234610938626187438</td>\n      <td>0.0</td>\n      <td>{'has_public_page': True, 'id': 214098779, 'la...</td>\n      <td>{'blocked_by_viewer': False, 'edge_owner_to_ti...</td>\n      <td>1.580606e+09</td>\n    </tr>\n    <tr>\n      <th>2</th>\n      <td>2020-02-03_01-00-35_UTC</td>\n      <td>Photo by Anaheim Packing District in Umami Bur...</td>\n      <td>https://scontent-sjc3-1.cdninstagram.com/v/t51...</td>\n      <td>{'count': 332}</td>\n      <td>2235325885460691420</td>\n      <td>0.0</td>\n      <td>{'has_public_page': True, 'id': 19002234, 'lat...</td>\n      <td>{'blocked_by_viewer': False, 'edge_owner_to_ti...</td>\n      <td>1.580692e+09</td>\n    </tr>\n    <tr>\n      <th>3</th>\n      <td>2020-02-03_02-03-10_UTC</td>\n      <td>Photo by 100% VEGAN FAMILY in Umami Burger wit...</td>\n      <td>https://scontent-sjc3-1.cdninstagram.com/v/t51...</td>\n      <td>{'count': 46}</td>\n      <td>2235357414060560846</td>\n      <td>0.0</td>\n      <td>{'has_public_page': True, 'id': 19002234, 'lat...</td>\n      <td>{'blocked_by_viewer': False, 'edge_owner_to_ti...</td>\n      <td>1.580695e+09</td>\n    </tr>\n    <tr>\n      <th>4</th>\n      <td>2020-02-03_23-41-46_UTC</td>\n      <td>Photo by Rosendo Herrera in Umami Burger. Imag...</td>\n      <td>https://scontent-sjc3-1.cdninstagram.com/v/t51...</td>\n      <td>{'count': 11}</td>\n      <td>2236011019983973241</td>\n      <td>0.0</td>\n      <td>{'has_public_page': True, 'id': 321424183, 'la...</td>\n      <td>{'blocked_by_viewer': False, 'edge_owner_to_ti...</td>\n      <td>1.580773e+09</td>\n    </tr>\n  </tbody>\n</table>\n</div>"
     },
     "metadata": {},
     "execution_count": 15
    }
   ],
   "source": [
    "df.head()"
   ]
  },
  {
   "cell_type": "code",
   "execution_count": 16,
   "metadata": {},
   "outputs": [],
   "source": [
    "df.to_csv(\"post_jsons_df_3.csv\")"
   ]
  },
  {
   "cell_type": "code",
   "execution_count": 40,
   "metadata": {},
   "outputs": [],
   "source": [
    "# Read in text descrip files (hashtags)"
   ]
  },
  {
   "cell_type": "code",
   "execution_count": 17,
   "metadata": {},
   "outputs": [],
   "source": [
    "def read_txt(file):\n",
    "    text = open(file, \"r\", encoding=\"utf8\").read()\n",
    "    return text   # return as string\n",
    "\n",
    "\n",
    "def get_ht(text):\n",
    "    ht = re.findall(r\"#(\\w+)\", text)\n",
    "    return ht"
   ]
  },
  {
   "cell_type": "code",
   "execution_count": 18,
   "metadata": {},
   "outputs": [],
   "source": [
    "texts = []\n",
    "\n",
    "for f in txt_files:\n",
    "    text = open(f, 'r', encoding=\"utf8\").read()\n",
    "    texts.append(text) "
   ]
  },
  {
   "cell_type": "code",
   "execution_count": null,
   "metadata": {},
   "outputs": [],
   "source": []
  },
  {
   "cell_type": "code",
   "execution_count": 19,
   "metadata": {},
   "outputs": [],
   "source": [
    "texts = list(map(read_txt, txt_files))\n",
    "hashtags = list(map(get_ht, texts))"
   ]
  },
  {
   "cell_type": "code",
   "execution_count": 20,
   "metadata": {},
   "outputs": [],
   "source": [
    "# get file names\n",
    "txt_fnames = [f.split('.txt')[0] for f in txt_files]\n",
    "\n",
    "# convert all to series, and concat them to a df\n",
    "textsS = pd.Series(texts)\n",
    "hashtagsS = pd.Series(hashtags)\n",
    "txt_fnamesS = pd.Series(txt_fnames)\n",
    "\n",
    "df_txt = pd.DataFrame(pd.concat([txt_fnamesS, textsS, hashtagsS], axis=1))\n",
    "df_txt.columns = ['file_name', 'descrip', 'hashtags']"
   ]
  },
  {
   "cell_type": "code",
   "execution_count": 21,
   "metadata": {},
   "outputs": [],
   "source": [
    "df_txt.to_csv(\"df_txt.csv\")"
   ]
  },
  {
   "cell_type": "code",
   "execution_count": null,
   "metadata": {},
   "outputs": [],
   "source": []
  },
  {
   "cell_type": "code",
   "execution_count": null,
   "metadata": {},
   "outputs": [],
   "source": [
    "# Join the json df and txt df by their common filename"
   ]
  },
  {
   "cell_type": "code",
   "execution_count": 22,
   "metadata": {},
   "outputs": [
    {
     "output_type": "stream",
     "name": "stdout",
     "text": "Index(['file_name', 'descrip', 'hashtags'], dtype='object')\nIndex(['file_name', 'accessibility_caption', 'display_url', 'edge_liked_by',\n       'id', 'is_ad', 'location', 'owner', 'taken_at_timestamp'],\n      dtype='object')\n"
    }
   ],
   "source": [
    "print(df_txt.columns)\n",
    "print(df.columns)"
   ]
  },
  {
   "cell_type": "code",
   "execution_count": 23,
   "metadata": {},
   "outputs": [
    {
     "output_type": "execute_result",
     "data": {
      "text/plain": "0    2020-02-02_01-20-04_UTC\n1    2020-02-03_01-00-35_UTC\n2    2020-02-03_02-03-10_UTC\n3    2020-02-03_23-41-46_UTC\n4    2020-02-06_02-51-43_UTC\nName: file_name, dtype: object"
     },
     "metadata": {},
     "execution_count": 23
    }
   ],
   "source": [
    "df_txt['file_name'].head()"
   ]
  },
  {
   "cell_type": "code",
   "execution_count": 25,
   "metadata": {},
   "outputs": [
    {
     "output_type": "execute_result",
     "data": {
      "text/plain": "0    2020-02-01_20-20-34_UTC\n1    2020-02-02_01-20-04_UTC\n2    2020-02-03_01-00-35_UTC\n3    2020-02-03_02-03-10_UTC\n4    2020-02-03_23-41-46_UTC\nName: file_name, dtype: object"
     },
     "metadata": {},
     "execution_count": 25
    }
   ],
   "source": [
    "df['file_name'].head()"
   ]
  },
  {
   "cell_type": "code",
   "execution_count": 26,
   "metadata": {},
   "outputs": [
    {
     "output_type": "stream",
     "name": "stdout",
     "text": "(148, 11)\n"
    }
   ],
   "source": [
    "# merge the post metadata (jsons) df and text descrip df (txt)\n",
    "merged = pd.merge(df, df_txt, on='file_name')\n",
    "print(merged.shape)"
   ]
  },
  {
   "cell_type": "code",
   "execution_count": 27,
   "metadata": {},
   "outputs": [
    {
     "output_type": "execute_result",
     "data": {
      "text/plain": "                 file_name                              accessibility_caption  \\\n0  2020-02-02_01-20-04_UTC         Photo by Panterra Caraway in Umami Burger.   \n1  2020-02-03_01-00-35_UTC  Photo by Anaheim Packing District in Umami Bur...   \n2  2020-02-03_02-03-10_UTC  Photo by 100% VEGAN FAMILY in Umami Burger wit...   \n3  2020-02-03_23-41-46_UTC  Photo by Rosendo Herrera in Umami Burger. Imag...   \n4  2020-02-06_02-51-43_UTC  Photo by Willerm De Passé Frekan in Umami Burg...   \n\n                                         display_url   edge_liked_by  \\\n0  https://scontent-sjc3-1.cdninstagram.com/v/t51...   {'count': 10}   \n1  https://scontent-sjc3-1.cdninstagram.com/v/t51...  {'count': 332}   \n2  https://scontent-sjc3-1.cdninstagram.com/v/t51...   {'count': 46}   \n3  https://scontent-sjc3-1.cdninstagram.com/v/t51...   {'count': 11}   \n4  https://scontent-sjc3-1.cdninstagram.com/v/t51...   {'count': 35}   \n\n                    id  is_ad  \\\n0  2234610938626187438    0.0   \n1  2235325885460691420    0.0   \n2  2235357414060560846    0.0   \n3  2236011019983973241    0.0   \n4  2237556175943954701    0.0   \n\n                                            location  \\\n0  {'has_public_page': True, 'id': 214098779, 'la...   \n1  {'has_public_page': True, 'id': 19002234, 'lat...   \n2  {'has_public_page': True, 'id': 19002234, 'lat...   \n3  {'has_public_page': True, 'id': 321424183, 'la...   \n4  {'has_public_page': True, 'id': 19002234, 'lat...   \n\n                                               owner  taken_at_timestamp  \\\n0  {'blocked_by_viewer': False, 'edge_owner_to_ti...        1.580606e+09   \n1  {'blocked_by_viewer': False, 'edge_owner_to_ti...        1.580692e+09   \n2  {'blocked_by_viewer': False, 'edge_owner_to_ti...        1.580695e+09   \n3  {'blocked_by_viewer': False, 'edge_owner_to_ti...        1.580773e+09   \n4  {'blocked_by_viewer': False, 'edge_owner_to_ti...        1.580958e+09   \n\n                                             descrip  \\\n0               Yummy dinner😋🍔🍟\\n#impossibleburger\\n   \n1  We've got stars in our eyes for The UFO desser...   \n2  Who else loves the impossible patty?!?😍 . -\\n-...   \n3                   #umamiburger #impossibleburger\\n   \n4  Back at it again ! My favorite burger joint!! ...   \n\n                                            hashtags  \n0                                 [impossibleburger]  \n1  [letsdodessert, packingdistrict, anaheim, ocfo...  \n2  [vegan, veganfood, veganismo, veganfamily, veg...  \n3                    [umamiburger, impossibleburger]  \n4                                                 []  ",
      "text/html": "<div>\n<style scoped>\n    .dataframe tbody tr th:only-of-type {\n        vertical-align: middle;\n    }\n\n    .dataframe tbody tr th {\n        vertical-align: top;\n    }\n\n    .dataframe thead th {\n        text-align: right;\n    }\n</style>\n<table border=\"1\" class=\"dataframe\">\n  <thead>\n    <tr style=\"text-align: right;\">\n      <th></th>\n      <th>file_name</th>\n      <th>accessibility_caption</th>\n      <th>display_url</th>\n      <th>edge_liked_by</th>\n      <th>id</th>\n      <th>is_ad</th>\n      <th>location</th>\n      <th>owner</th>\n      <th>taken_at_timestamp</th>\n      <th>descrip</th>\n      <th>hashtags</th>\n    </tr>\n  </thead>\n  <tbody>\n    <tr>\n      <th>0</th>\n      <td>2020-02-02_01-20-04_UTC</td>\n      <td>Photo by Panterra Caraway in Umami Burger.</td>\n      <td>https://scontent-sjc3-1.cdninstagram.com/v/t51...</td>\n      <td>{'count': 10}</td>\n      <td>2234610938626187438</td>\n      <td>0.0</td>\n      <td>{'has_public_page': True, 'id': 214098779, 'la...</td>\n      <td>{'blocked_by_viewer': False, 'edge_owner_to_ti...</td>\n      <td>1.580606e+09</td>\n      <td>Yummy dinner😋🍔🍟\\n#impossibleburger\\n</td>\n      <td>[impossibleburger]</td>\n    </tr>\n    <tr>\n      <th>1</th>\n      <td>2020-02-03_01-00-35_UTC</td>\n      <td>Photo by Anaheim Packing District in Umami Bur...</td>\n      <td>https://scontent-sjc3-1.cdninstagram.com/v/t51...</td>\n      <td>{'count': 332}</td>\n      <td>2235325885460691420</td>\n      <td>0.0</td>\n      <td>{'has_public_page': True, 'id': 19002234, 'lat...</td>\n      <td>{'blocked_by_viewer': False, 'edge_owner_to_ti...</td>\n      <td>1.580692e+09</td>\n      <td>We've got stars in our eyes for The UFO desser...</td>\n      <td>[letsdodessert, packingdistrict, anaheim, ocfo...</td>\n    </tr>\n    <tr>\n      <th>2</th>\n      <td>2020-02-03_02-03-10_UTC</td>\n      <td>Photo by 100% VEGAN FAMILY in Umami Burger wit...</td>\n      <td>https://scontent-sjc3-1.cdninstagram.com/v/t51...</td>\n      <td>{'count': 46}</td>\n      <td>2235357414060560846</td>\n      <td>0.0</td>\n      <td>{'has_public_page': True, 'id': 19002234, 'lat...</td>\n      <td>{'blocked_by_viewer': False, 'edge_owner_to_ti...</td>\n      <td>1.580695e+09</td>\n      <td>Who else loves the impossible patty?!?😍 . -\\n-...</td>\n      <td>[vegan, veganfood, veganismo, veganfamily, veg...</td>\n    </tr>\n    <tr>\n      <th>3</th>\n      <td>2020-02-03_23-41-46_UTC</td>\n      <td>Photo by Rosendo Herrera in Umami Burger. Imag...</td>\n      <td>https://scontent-sjc3-1.cdninstagram.com/v/t51...</td>\n      <td>{'count': 11}</td>\n      <td>2236011019983973241</td>\n      <td>0.0</td>\n      <td>{'has_public_page': True, 'id': 321424183, 'la...</td>\n      <td>{'blocked_by_viewer': False, 'edge_owner_to_ti...</td>\n      <td>1.580773e+09</td>\n      <td>#umamiburger #impossibleburger\\n</td>\n      <td>[umamiburger, impossibleburger]</td>\n    </tr>\n    <tr>\n      <th>4</th>\n      <td>2020-02-06_02-51-43_UTC</td>\n      <td>Photo by Willerm De Passé Frekan in Umami Burg...</td>\n      <td>https://scontent-sjc3-1.cdninstagram.com/v/t51...</td>\n      <td>{'count': 35}</td>\n      <td>2237556175943954701</td>\n      <td>0.0</td>\n      <td>{'has_public_page': True, 'id': 19002234, 'lat...</td>\n      <td>{'blocked_by_viewer': False, 'edge_owner_to_ti...</td>\n      <td>1.580958e+09</td>\n      <td>Back at it again ! My favorite burger joint!! ...</td>\n      <td>[]</td>\n    </tr>\n  </tbody>\n</table>\n</div>"
     },
     "metadata": {},
     "execution_count": 27
    }
   ],
   "source": [
    "merged.head()"
   ]
  },
  {
   "cell_type": "code",
   "execution_count": 28,
   "metadata": {},
   "outputs": [],
   "source": [
    "merged.to_csv(\"posts_merged_df_3.csv\")"
   ]
  },
  {
   "cell_type": "code",
   "execution_count": null,
   "metadata": {},
   "outputs": [],
   "source": []
  }
 ]
}