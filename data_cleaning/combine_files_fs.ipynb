{
 "nbformat": 4,
 "nbformat_minor": 2,
 "metadata": {
  "language_info": {
   "name": "python",
   "codemirror_mode": {
    "name": "ipython",
    "version": 3
   },
   "version": "3.7.6-final"
  },
  "orig_nbformat": 2,
  "file_extension": ".py",
  "mimetype": "text/x-python",
  "name": "python",
  "npconvert_exporter": "python",
  "pygments_lexer": "ipython3",
  "version": 3,
  "kernelspec": {
   "name": "python37664bitckidscondaeba5e997e95d433391cca1cee29345d7",
   "display_name": "Python 3.7.6 64-bit ('ckids': conda)"
  }
 },
 "cells": [
  {
   "cell_type": "code",
   "execution_count": 1,
   "metadata": {},
   "outputs": [],
   "source": [
    "import lzma\n",
    "import json\n",
    "import pandas as pd\n",
    "import numpy as np\n",
    "import re\n",
    "import glob\n",
    "import os\n",
    "import sys\n",
    "import multiprocessing as mp\n",
    "import pickle"
   ]
  },
  {
   "cell_type": "code",
   "execution_count": 3,
   "metadata": {},
   "outputs": [],
   "source": [
    "os.chdir(r\"C:\\Users\\erica\\OneDrive - University of Southern California\\Projects_at_USC\\CKIDS_current\\data\")"
   ]
  },
  {
   "cell_type": "code",
   "execution_count": 4,
   "metadata": {},
   "outputs": [
    {
     "output_type": "execute_result",
     "data": {
      "text/plain": "'C:\\\\Users\\\\erica\\\\OneDrive - University of Southern California\\\\Projects_at_USC\\\\CKIDS_current\\\\data'"
     },
     "metadata": {},
     "execution_count": 4
    }
   ],
   "source": [
    "os.getcwd()"
   ]
  },
  {
   "cell_type": "code",
   "execution_count": 5,
   "metadata": {},
   "outputs": [
    {
     "output_type": "stream",
     "name": "stdout",
     "text": "265\n256\n168\n194\n357\n"
    }
   ],
   "source": [
    "# lists of file names\n",
    "# json xz\n",
    "json_files = glob.glob(\"*_UTC.json\")\n",
    "# descrip txts\n",
    "txt_files = glob.glob(\"*_UTC.txt\")\n",
    "# location txts\n",
    "loc_files = glob.glob(\"*_location.txt\")\n",
    "# comments jsons\n",
    "cmt_files = glob.glob(\"*_comments.json\")\n",
    "# num of jpgs\n",
    "jpg_files = glob.glob(\"*.jpg\")\n",
    "\n",
    "\n",
    "\n",
    "print(len(json_files))\n",
    "print(len(txt_files))\n",
    "print(len(loc_files))\n",
    "print(len(cmt_files))\n",
    "print(len(jpg_files))"
   ]
  },
  {
   "cell_type": "code",
   "execution_count": 6,
   "metadata": {
    "tags": [
     "outputPrepend",
     "outputPrepend",
     "outputPrepend",
     "outputPrepend",
     "outputPrepend",
     "outputPrepend",
     "outputPrepend",
     "outputPrepend",
     "outputPrepend",
     "outputPrepend",
     "outputPrepend",
     "outputPrepend",
     "outputPrepend",
     "outputPrepend",
     "outputPrepend",
     "outputPrepend",
     "outputPrepend",
     "outputPrepend",
     "outputPrepend",
     "outputPrepend",
     "outputPrepend",
     "outputPrepend",
     "outputPrepend",
     "outputPrepend",
     "outputPrepend",
     "outputPrepend",
     "outputPrepend",
     "outputPrepend",
     "outputPrepend",
     "outputPrepend",
     "outputPrepend",
     "outputPrepend",
     "outputPrepend",
     "outputPrepend",
     "outputPrepend",
     "outputPrepend",
     "outputPrepend",
     "outputPrepend",
     "outputPrepend",
     "outputPrepend",
     "outputPrepend",
     "outputPrepend",
     "outputPrepend",
     "outputPrepend",
     "outputPrepend",
     "outputPrepend",
     "outputPrepend",
     "outputPrepend",
     "outputPrepend",
     "outputPrepend",
     "outputPrepend",
     "outputPrepend",
     "outputPrepend",
     "outputPrepend",
     "outputPrepend",
     "outputPrepend",
     "outputPrepend",
     "outputPrepend",
     "outputPrepend",
     "outputPrepend",
     "outputPrepend",
     "outputPrepend",
     "outputPrepend",
     "outputPrepend",
     "outputPrepend",
     "outputPrepend",
     "outputPrepend",
     "outputPrepend",
     "outputPrepend",
     "outputPrepend",
     "outputPrepend",
     "outputPrepend",
     "outputPrepend",
     "outputPrepend",
     "outputPrepend",
     "outputPrepend",
     "outputPrepend",
     "outputPrepend",
     "outputPrepend",
     "outputPrepend",
     "outputPrepend",
     "outputPrepend",
     "outputPrepend",
     "outputPrepend",
     "outputPrepend",
     "outputPrepend",
     "outputPrepend",
     "outputPrepend",
     "outputPrepend",
     "outputPrepend",
     "outputPrepend",
     "outputPrepend",
     "outputPrepend",
     "outputPrepend",
     "outputPrepend",
     "outputPrepend",
     "outputPrepend",
     "outputPrepend",
     "outputPrepend",
     "outputPrepend",
     "outputPrepend",
     "outputPrepend",
     "outputPrepend",
     "outputPrepend",
     "outputPrepend",
     "outputPrepend",
     "outputPrepend",
     "outputPrepend",
     "outputPrepend",
     "outputPrepend",
     "outputPrepend",
     "outputPrepend"
    ]
   },
   "outputs": [],
   "source": [
    "# Add all json files to a dataframe\n",
    "temp = pd.DataFrame()\n",
    "\n",
    "path_to_json = r'C:\\Users\\erica\\OneDrive - University of Southern California\\Projects_at_USC\\CKIDS_current\\data' \n",
    "\n",
    "json_pattern = os.path.join(path_to_json,'*_UTC.json')\n",
    "file_list = glob.glob(json_pattern)\n",
    "\n",
    "for file in json_files:\n",
    "    # print(file)\n",
    "    data = pd.read_json(file, orient=str)\n",
    "    postnode = data['node']\n",
    "    temp = temp.append(postnode, ignore_index = True)"
   ]
  },
  {
   "cell_type": "code",
   "execution_count": 7,
   "metadata": {},
   "outputs": [
    {
     "output_type": "execute_result",
     "data": {
      "text/plain": "(265, 53)"
     },
     "metadata": {},
     "execution_count": 7
    }
   ],
   "source": [
    "temp.shape"
   ]
  },
  {
   "cell_type": "code",
   "execution_count": 8,
   "metadata": {},
   "outputs": [
    {
     "output_type": "execute_result",
     "data": {
      "text/plain": "     __typename                              accessibility_caption  \\\n0    GraphImage  Photo by urbanplates on January 31, 2020. Imag...   \n1  GraphSidecar                                                NaN   \n2  GraphSidecar                                                NaN   \n\n   caption_is_edited  commenting_disabled_for_viewer  comments_disabled  \\\n0                1.0                             0.0                0.0   \n1                0.0                             0.0                0.0   \n2                0.0                             0.0                0.0   \n\n                        dimensions  \\\n0  {'height': 1080, 'width': 1080}   \n1  {'height': 1080, 'width': 1080}   \n2  {'height': 1080, 'width': 1080}   \n\n                                   display_resources  \\\n0  [{'config_height': 640, 'config_width': 640, '...   \n1  [{'config_height': 640, 'config_width': 640, '...   \n2  [{'config_height': 640, 'config_width': 640, '...   \n\n                                         display_url  \\\n0  https://scontent-lax3-1.cdninstagram.com/v/t51...   \n1  https://scontent-lax3-1.cdninstagram.com/v/t51...   \n2  https://scontent-lax3-1.cdninstagram.com/v/t51...   \n\n                          edge_media_preview_comment  \\\n0  {'count': 4, 'edges': [{'node': {'created_at':...   \n1  {'count': 2, 'edges': [{'node': {'created_at':...   \n2                          {'count': 0, 'edges': []}   \n\n       edge_media_preview_like  ... media_overlay_info dash_info  \\\n0  {'count': 249, 'edges': []}  ...                NaN       NaN   \n1   {'count': 14, 'edges': []}  ...                NaN       NaN   \n2   {'count': 12, 'edges': []}  ...                NaN       NaN   \n\n  encoding_status is_published product_type title video_duration video_url  \\\n0             NaN          NaN          NaN   NaN            NaN       NaN   \n1             NaN          NaN          NaN   NaN            NaN       NaN   \n2             NaN          NaN          NaN   NaN            NaN       NaN   \n\n  video_view_count felix_profile_grid_crop  \n0              NaN                     NaN  \n1              NaN                     NaN  \n2              NaN                     NaN  \n\n[3 rows x 53 columns]",
      "text/html": "<div>\n<style scoped>\n    .dataframe tbody tr th:only-of-type {\n        vertical-align: middle;\n    }\n\n    .dataframe tbody tr th {\n        vertical-align: top;\n    }\n\n    .dataframe thead th {\n        text-align: right;\n    }\n</style>\n<table border=\"1\" class=\"dataframe\">\n  <thead>\n    <tr style=\"text-align: right;\">\n      <th></th>\n      <th>__typename</th>\n      <th>accessibility_caption</th>\n      <th>caption_is_edited</th>\n      <th>commenting_disabled_for_viewer</th>\n      <th>comments_disabled</th>\n      <th>dimensions</th>\n      <th>display_resources</th>\n      <th>display_url</th>\n      <th>edge_media_preview_comment</th>\n      <th>edge_media_preview_like</th>\n      <th>...</th>\n      <th>media_overlay_info</th>\n      <th>dash_info</th>\n      <th>encoding_status</th>\n      <th>is_published</th>\n      <th>product_type</th>\n      <th>title</th>\n      <th>video_duration</th>\n      <th>video_url</th>\n      <th>video_view_count</th>\n      <th>felix_profile_grid_crop</th>\n    </tr>\n  </thead>\n  <tbody>\n    <tr>\n      <th>0</th>\n      <td>GraphImage</td>\n      <td>Photo by urbanplates on January 31, 2020. Imag...</td>\n      <td>1.0</td>\n      <td>0.0</td>\n      <td>0.0</td>\n      <td>{'height': 1080, 'width': 1080}</td>\n      <td>[{'config_height': 640, 'config_width': 640, '...</td>\n      <td>https://scontent-lax3-1.cdninstagram.com/v/t51...</td>\n      <td>{'count': 4, 'edges': [{'node': {'created_at':...</td>\n      <td>{'count': 249, 'edges': []}</td>\n      <td>...</td>\n      <td>NaN</td>\n      <td>NaN</td>\n      <td>NaN</td>\n      <td>NaN</td>\n      <td>NaN</td>\n      <td>NaN</td>\n      <td>NaN</td>\n      <td>NaN</td>\n      <td>NaN</td>\n      <td>NaN</td>\n    </tr>\n    <tr>\n      <th>1</th>\n      <td>GraphSidecar</td>\n      <td>NaN</td>\n      <td>0.0</td>\n      <td>0.0</td>\n      <td>0.0</td>\n      <td>{'height': 1080, 'width': 1080}</td>\n      <td>[{'config_height': 640, 'config_width': 640, '...</td>\n      <td>https://scontent-lax3-1.cdninstagram.com/v/t51...</td>\n      <td>{'count': 2, 'edges': [{'node': {'created_at':...</td>\n      <td>{'count': 14, 'edges': []}</td>\n      <td>...</td>\n      <td>NaN</td>\n      <td>NaN</td>\n      <td>NaN</td>\n      <td>NaN</td>\n      <td>NaN</td>\n      <td>NaN</td>\n      <td>NaN</td>\n      <td>NaN</td>\n      <td>NaN</td>\n      <td>NaN</td>\n    </tr>\n    <tr>\n      <th>2</th>\n      <td>GraphSidecar</td>\n      <td>NaN</td>\n      <td>0.0</td>\n      <td>0.0</td>\n      <td>0.0</td>\n      <td>{'height': 1080, 'width': 1080}</td>\n      <td>[{'config_height': 640, 'config_width': 640, '...</td>\n      <td>https://scontent-lax3-1.cdninstagram.com/v/t51...</td>\n      <td>{'count': 0, 'edges': []}</td>\n      <td>{'count': 12, 'edges': []}</td>\n      <td>...</td>\n      <td>NaN</td>\n      <td>NaN</td>\n      <td>NaN</td>\n      <td>NaN</td>\n      <td>NaN</td>\n      <td>NaN</td>\n      <td>NaN</td>\n      <td>NaN</td>\n      <td>NaN</td>\n      <td>NaN</td>\n    </tr>\n  </tbody>\n</table>\n<p>3 rows × 53 columns</p>\n</div>"
     },
     "metadata": {},
     "execution_count": 8
    }
   ],
   "source": [
    "temp.head(3)"
   ]
  },
  {
   "cell_type": "code",
   "execution_count": 9,
   "metadata": {},
   "outputs": [],
   "source": [
    "json_fnames = [f.split('.json')[0] for f in json_files]\n",
    "json_fnamesS = pd.Series(json_fnames)\n",
    "temp['file_name'] = json_fnamesS"
   ]
  },
  {
   "cell_type": "code",
   "execution_count": 10,
   "metadata": {},
   "outputs": [
    {
     "output_type": "stream",
     "name": "stdout",
     "text": "(218, 54)\n"
    }
   ],
   "source": [
    "temp2 = temp[temp['__typename'] == \"GraphImage\"]\n",
    "print(temp2.shape)"
   ]
  },
  {
   "cell_type": "code",
   "execution_count": 12,
   "metadata": {},
   "outputs": [],
   "source": [
    "# temp2.columns"
   ]
  },
  {
   "cell_type": "code",
   "execution_count": 13,
   "metadata": {},
   "outputs": [],
   "source": [
    "# temp2.iloc[0]"
   ]
  },
  {
   "cell_type": "code",
   "execution_count": 11,
   "metadata": {},
   "outputs": [],
   "source": [
    "df = temp2[['file_name', 'accessibility_caption', 'display_url', 'edge_liked_by', 'id', 'is_ad', 'location', 'owner', 'taken_at_timestamp']]"
   ]
  },
  {
   "cell_type": "code",
   "execution_count": 12,
   "metadata": {},
   "outputs": [
    {
     "output_type": "execute_result",
     "data": {
      "text/plain": "                  file_name  \\\n0   2020-02-01_00-30-09_UTC   \n3   2020-02-01_18-30-28_UTC   \n7   2020-02-02_15-10-30_UTC   \n8   2020-02-02_16-00-16_UTC   \n10  2020-02-03_00-05-07_UTC   \n\n                                accessibility_caption  \\\n0   Photo by urbanplates on January 31, 2020. Imag...   \n3   Photo by #dineLA in HiHo Cheeseburger with @hi...   \n7   Photo by @yourhoiness in HiHo Cheeseburger. Im...   \n8   Photo by The Henry on February 02, 2020. Image...   \n10  Photo by HiHo 🍔 in HiHo Cheeseburger with @hih...   \n\n                                          display_url    edge_liked_by  \\\n0   https://scontent-lax3-1.cdninstagram.com/v/t51...              NaN   \n3   https://scontent-lax3-1.cdninstagram.com/v/t51...  {'count': 2235}   \n7   https://scontent-lax3-2.cdninstagram.com/v/t51...     {'count': 4}   \n8   https://scontent-lax3-1.cdninstagram.com/v/t51...              NaN   \n10  https://scontent-sjc3-1.cdninstagram.com/v/t51...              NaN   \n\n                     id  is_ad  \\\n0   2233861020543364147    0.0   \n3   2234404663954808455    0.0   \n7   2235028910851352065    0.0   \n8   2235053941526362311    0.0   \n10  2235297969438836147    0.0   \n\n                                             location  \\\n0                                                None   \n3   {'has_public_page': True, 'id': 28208364046247...   \n7   {'has_public_page': True, 'id': 28208364046247...   \n8                                                None   \n10  {'has_public_page': True, 'id': 13259326375585...   \n\n                                                owner  taken_at_timestamp  \n0   {'biography': 'Everyone deserves to eat this g...        1.580517e+09  \n3   {'blocked_by_viewer': False, 'edge_owner_to_ti...        1.580582e+09  \n7   {'blocked_by_viewer': False, 'edge_owner_to_ti...        1.580656e+09  \n8   {'biography': '#FollowTheArrow to the greatest...        1.580659e+09  \n10  {'biography': 'Santa Monica • Mid-Wilshire\nThe...        1.580688e+09  ",
      "text/html": "<div>\n<style scoped>\n    .dataframe tbody tr th:only-of-type {\n        vertical-align: middle;\n    }\n\n    .dataframe tbody tr th {\n        vertical-align: top;\n    }\n\n    .dataframe thead th {\n        text-align: right;\n    }\n</style>\n<table border=\"1\" class=\"dataframe\">\n  <thead>\n    <tr style=\"text-align: right;\">\n      <th></th>\n      <th>file_name</th>\n      <th>accessibility_caption</th>\n      <th>display_url</th>\n      <th>edge_liked_by</th>\n      <th>id</th>\n      <th>is_ad</th>\n      <th>location</th>\n      <th>owner</th>\n      <th>taken_at_timestamp</th>\n    </tr>\n  </thead>\n  <tbody>\n    <tr>\n      <th>0</th>\n      <td>2020-02-01_00-30-09_UTC</td>\n      <td>Photo by urbanplates on January 31, 2020. Imag...</td>\n      <td>https://scontent-lax3-1.cdninstagram.com/v/t51...</td>\n      <td>NaN</td>\n      <td>2233861020543364147</td>\n      <td>0.0</td>\n      <td>None</td>\n      <td>{'biography': 'Everyone deserves to eat this g...</td>\n      <td>1.580517e+09</td>\n    </tr>\n    <tr>\n      <th>3</th>\n      <td>2020-02-01_18-30-28_UTC</td>\n      <td>Photo by #dineLA in HiHo Cheeseburger with @hi...</td>\n      <td>https://scontent-lax3-1.cdninstagram.com/v/t51...</td>\n      <td>{'count': 2235}</td>\n      <td>2234404663954808455</td>\n      <td>0.0</td>\n      <td>{'has_public_page': True, 'id': 28208364046247...</td>\n      <td>{'blocked_by_viewer': False, 'edge_owner_to_ti...</td>\n      <td>1.580582e+09</td>\n    </tr>\n    <tr>\n      <th>7</th>\n      <td>2020-02-02_15-10-30_UTC</td>\n      <td>Photo by @yourhoiness in HiHo Cheeseburger. Im...</td>\n      <td>https://scontent-lax3-2.cdninstagram.com/v/t51...</td>\n      <td>{'count': 4}</td>\n      <td>2235028910851352065</td>\n      <td>0.0</td>\n      <td>{'has_public_page': True, 'id': 28208364046247...</td>\n      <td>{'blocked_by_viewer': False, 'edge_owner_to_ti...</td>\n      <td>1.580656e+09</td>\n    </tr>\n    <tr>\n      <th>8</th>\n      <td>2020-02-02_16-00-16_UTC</td>\n      <td>Photo by The Henry on February 02, 2020. Image...</td>\n      <td>https://scontent-lax3-1.cdninstagram.com/v/t51...</td>\n      <td>NaN</td>\n      <td>2235053941526362311</td>\n      <td>0.0</td>\n      <td>None</td>\n      <td>{'biography': '#FollowTheArrow to the greatest...</td>\n      <td>1.580659e+09</td>\n    </tr>\n    <tr>\n      <th>10</th>\n      <td>2020-02-03_00-05-07_UTC</td>\n      <td>Photo by HiHo 🍔 in HiHo Cheeseburger with @hih...</td>\n      <td>https://scontent-sjc3-1.cdninstagram.com/v/t51...</td>\n      <td>NaN</td>\n      <td>2235297969438836147</td>\n      <td>0.0</td>\n      <td>{'has_public_page': True, 'id': 13259326375585...</td>\n      <td>{'biography': 'Santa Monica • Mid-Wilshire\nThe...</td>\n      <td>1.580688e+09</td>\n    </tr>\n  </tbody>\n</table>\n</div>"
     },
     "metadata": {},
     "execution_count": 12
    }
   ],
   "source": [
    "df.head()"
   ]
  },
  {
   "cell_type": "code",
   "execution_count": 13,
   "metadata": {},
   "outputs": [],
   "source": [
    "df.to_csv(\"post_jsons_df_fs.csv\")"
   ]
  },
  {
   "cell_type": "code",
   "execution_count": 40,
   "metadata": {},
   "outputs": [],
   "source": [
    "# Read in text descrip files (hashtags)"
   ]
  },
  {
   "cell_type": "code",
   "execution_count": 14,
   "metadata": {},
   "outputs": [],
   "source": [
    "def read_txt(file):\n",
    "    text = open(file, \"r\", encoding=\"utf8\").read()\n",
    "    return text   # return as string\n",
    "\n",
    "\n",
    "def get_ht(text):\n",
    "    ht = re.findall(r\"#(\\w+)\", text)\n",
    "    return ht"
   ]
  },
  {
   "cell_type": "code",
   "execution_count": 15,
   "metadata": {},
   "outputs": [],
   "source": [
    "texts = []\n",
    "\n",
    "for f in txt_files:\n",
    "    text = open(f, 'r', encoding=\"utf8\").read()\n",
    "    texts.append(text) "
   ]
  },
  {
   "cell_type": "code",
   "execution_count": null,
   "metadata": {},
   "outputs": [],
   "source": []
  },
  {
   "cell_type": "code",
   "execution_count": 16,
   "metadata": {},
   "outputs": [],
   "source": [
    "texts = list(map(read_txt, txt_files))\n",
    "hashtags = list(map(get_ht, texts))"
   ]
  },
  {
   "cell_type": "code",
   "execution_count": 17,
   "metadata": {},
   "outputs": [],
   "source": [
    "# get file names\n",
    "txt_fnames = [f.split('.txt')[0] for f in txt_files]\n",
    "\n",
    "# convert all to series, and concat them to a df\n",
    "textsS = pd.Series(texts)\n",
    "hashtagsS = pd.Series(hashtags)\n",
    "txt_fnamesS = pd.Series(txt_fnames)\n",
    "\n",
    "df_txt = pd.DataFrame(pd.concat([txt_fnamesS, textsS, hashtagsS], axis=1))\n",
    "df_txt.columns = ['file_name', 'descrip', 'hashtags']"
   ]
  },
  {
   "cell_type": "code",
   "execution_count": 18,
   "metadata": {},
   "outputs": [],
   "source": [
    "df_txt.to_csv(\"df_txt_fs.csv\")"
   ]
  },
  {
   "cell_type": "code",
   "execution_count": null,
   "metadata": {},
   "outputs": [],
   "source": []
  },
  {
   "cell_type": "code",
   "execution_count": null,
   "metadata": {},
   "outputs": [],
   "source": [
    "# Join the json df and txt df by their common filename"
   ]
  },
  {
   "cell_type": "code",
   "execution_count": 19,
   "metadata": {},
   "outputs": [
    {
     "output_type": "stream",
     "name": "stdout",
     "text": "Index(['file_name', 'descrip', 'hashtags'], dtype='object')\nIndex(['file_name', 'accessibility_caption', 'display_url', 'edge_liked_by',\n       'id', 'is_ad', 'location', 'owner', 'taken_at_timestamp'],\n      dtype='object')\n"
    }
   ],
   "source": [
    "print(df_txt.columns)\n",
    "print(df.columns)"
   ]
  },
  {
   "cell_type": "code",
   "execution_count": 20,
   "metadata": {},
   "outputs": [
    {
     "output_type": "execute_result",
     "data": {
      "text/plain": "0    2020-02-01_00-30-09_UTC\n1    2020-02-01_10-23-03_UTC\n2    2020-02-01_16-36-56_UTC\n3    2020-02-01_18-30-28_UTC\n4    2020-02-01_19-30-47_UTC\nName: file_name, dtype: object"
     },
     "metadata": {},
     "execution_count": 20
    }
   ],
   "source": [
    "df_txt['file_name'].head()"
   ]
  },
  {
   "cell_type": "code",
   "execution_count": 21,
   "metadata": {},
   "outputs": [
    {
     "output_type": "execute_result",
     "data": {
      "text/plain": "0     2020-02-01_00-30-09_UTC\n3     2020-02-01_18-30-28_UTC\n7     2020-02-02_15-10-30_UTC\n8     2020-02-02_16-00-16_UTC\n10    2020-02-03_00-05-07_UTC\nName: file_name, dtype: object"
     },
     "metadata": {},
     "execution_count": 21
    }
   ],
   "source": [
    "df['file_name'].head()"
   ]
  },
  {
   "cell_type": "code",
   "execution_count": 22,
   "metadata": {},
   "outputs": [
    {
     "output_type": "stream",
     "name": "stdout",
     "text": "(208, 11)\n"
    }
   ],
   "source": [
    "# merge the post metadata (jsons) df and text descrip df (txt)\n",
    "merged = pd.merge(df, df_txt, on='file_name')\n",
    "print(merged.shape)"
   ]
  },
  {
   "cell_type": "code",
   "execution_count": 23,
   "metadata": {},
   "outputs": [
    {
     "output_type": "execute_result",
     "data": {
      "text/plain": "                 file_name                              accessibility_caption  \\\n0  2020-02-01_00-30-09_UTC  Photo by urbanplates on January 31, 2020. Imag...   \n1  2020-02-01_18-30-28_UTC  Photo by #dineLA in HiHo Cheeseburger with @hi...   \n2  2020-02-02_15-10-30_UTC  Photo by @yourhoiness in HiHo Cheeseburger. Im...   \n3  2020-02-02_16-00-16_UTC  Photo by The Henry on February 02, 2020. Image...   \n4  2020-02-03_00-05-07_UTC  Photo by HiHo 🍔 in HiHo Cheeseburger with @hih...   \n\n                                         display_url    edge_liked_by  \\\n0  https://scontent-lax3-1.cdninstagram.com/v/t51...              NaN   \n1  https://scontent-lax3-1.cdninstagram.com/v/t51...  {'count': 2235}   \n2  https://scontent-lax3-2.cdninstagram.com/v/t51...     {'count': 4}   \n3  https://scontent-lax3-1.cdninstagram.com/v/t51...              NaN   \n4  https://scontent-sjc3-1.cdninstagram.com/v/t51...              NaN   \n\n                    id  is_ad  \\\n0  2233861020543364147    0.0   \n1  2234404663954808455    0.0   \n2  2235028910851352065    0.0   \n3  2235053941526362311    0.0   \n4  2235297969438836147    0.0   \n\n                                            location  \\\n0                                               None   \n1  {'has_public_page': True, 'id': 28208364046247...   \n2  {'has_public_page': True, 'id': 28208364046247...   \n3                                               None   \n4  {'has_public_page': True, 'id': 13259326375585...   \n\n                                               owner  taken_at_timestamp  \\\n0  {'biography': 'Everyone deserves to eat this g...        1.580517e+09   \n1  {'blocked_by_viewer': False, 'edge_owner_to_ti...        1.580582e+09   \n2  {'blocked_by_viewer': False, 'edge_owner_to_ti...        1.580656e+09   \n3  {'biography': '#FollowTheArrow to the greatest...        1.580659e+09   \n4  {'biography': 'Santa Monica • Mid-Wilshire\nThe...        1.580688e+09   \n\n                                             descrip  \\\n0  Staying cozy by the fireplace at our La Jolla ...   \n1  Thank you for dining out during #dineLA Restau...   \n2                                  Is this a sign?\\n   \n3  Sunday Brunch for the win! Sweeten up the last...   \n4  Game day essentials! 🏈 🍔#SuperBowlLIV 📷 @plant...   \n\n                           hashtags  \n0                                []  \n1                          [dineLA]  \n2                                []  \n3                                []  \n4  [SuperBowlLIV, HiHoCheeseburger]  ",
      "text/html": "<div>\n<style scoped>\n    .dataframe tbody tr th:only-of-type {\n        vertical-align: middle;\n    }\n\n    .dataframe tbody tr th {\n        vertical-align: top;\n    }\n\n    .dataframe thead th {\n        text-align: right;\n    }\n</style>\n<table border=\"1\" class=\"dataframe\">\n  <thead>\n    <tr style=\"text-align: right;\">\n      <th></th>\n      <th>file_name</th>\n      <th>accessibility_caption</th>\n      <th>display_url</th>\n      <th>edge_liked_by</th>\n      <th>id</th>\n      <th>is_ad</th>\n      <th>location</th>\n      <th>owner</th>\n      <th>taken_at_timestamp</th>\n      <th>descrip</th>\n      <th>hashtags</th>\n    </tr>\n  </thead>\n  <tbody>\n    <tr>\n      <th>0</th>\n      <td>2020-02-01_00-30-09_UTC</td>\n      <td>Photo by urbanplates on January 31, 2020. Imag...</td>\n      <td>https://scontent-lax3-1.cdninstagram.com/v/t51...</td>\n      <td>NaN</td>\n      <td>2233861020543364147</td>\n      <td>0.0</td>\n      <td>None</td>\n      <td>{'biography': 'Everyone deserves to eat this g...</td>\n      <td>1.580517e+09</td>\n      <td>Staying cozy by the fireplace at our La Jolla ...</td>\n      <td>[]</td>\n    </tr>\n    <tr>\n      <th>1</th>\n      <td>2020-02-01_18-30-28_UTC</td>\n      <td>Photo by #dineLA in HiHo Cheeseburger with @hi...</td>\n      <td>https://scontent-lax3-1.cdninstagram.com/v/t51...</td>\n      <td>{'count': 2235}</td>\n      <td>2234404663954808455</td>\n      <td>0.0</td>\n      <td>{'has_public_page': True, 'id': 28208364046247...</td>\n      <td>{'blocked_by_viewer': False, 'edge_owner_to_ti...</td>\n      <td>1.580582e+09</td>\n      <td>Thank you for dining out during #dineLA Restau...</td>\n      <td>[dineLA]</td>\n    </tr>\n    <tr>\n      <th>2</th>\n      <td>2020-02-02_15-10-30_UTC</td>\n      <td>Photo by @yourhoiness in HiHo Cheeseburger. Im...</td>\n      <td>https://scontent-lax3-2.cdninstagram.com/v/t51...</td>\n      <td>{'count': 4}</td>\n      <td>2235028910851352065</td>\n      <td>0.0</td>\n      <td>{'has_public_page': True, 'id': 28208364046247...</td>\n      <td>{'blocked_by_viewer': False, 'edge_owner_to_ti...</td>\n      <td>1.580656e+09</td>\n      <td>Is this a sign?\\n</td>\n      <td>[]</td>\n    </tr>\n    <tr>\n      <th>3</th>\n      <td>2020-02-02_16-00-16_UTC</td>\n      <td>Photo by The Henry on February 02, 2020. Image...</td>\n      <td>https://scontent-lax3-1.cdninstagram.com/v/t51...</td>\n      <td>NaN</td>\n      <td>2235053941526362311</td>\n      <td>0.0</td>\n      <td>None</td>\n      <td>{'biography': '#FollowTheArrow to the greatest...</td>\n      <td>1.580659e+09</td>\n      <td>Sunday Brunch for the win! Sweeten up the last...</td>\n      <td>[]</td>\n    </tr>\n    <tr>\n      <th>4</th>\n      <td>2020-02-03_00-05-07_UTC</td>\n      <td>Photo by HiHo 🍔 in HiHo Cheeseburger with @hih...</td>\n      <td>https://scontent-sjc3-1.cdninstagram.com/v/t51...</td>\n      <td>NaN</td>\n      <td>2235297969438836147</td>\n      <td>0.0</td>\n      <td>{'has_public_page': True, 'id': 13259326375585...</td>\n      <td>{'biography': 'Santa Monica • Mid-Wilshire\nThe...</td>\n      <td>1.580688e+09</td>\n      <td>Game day essentials! 🏈 🍔#SuperBowlLIV 📷 @plant...</td>\n      <td>[SuperBowlLIV, HiHoCheeseburger]</td>\n    </tr>\n  </tbody>\n</table>\n</div>"
     },
     "metadata": {},
     "execution_count": 23
    }
   ],
   "source": [
    "merged.head()"
   ]
  },
  {
   "cell_type": "code",
   "execution_count": 24,
   "metadata": {},
   "outputs": [],
   "source": [
    "merged.to_csv(\"posts_merged_df_fs.csv\")"
   ]
  },
  {
   "cell_type": "code",
   "execution_count": null,
   "metadata": {},
   "outputs": [],
   "source": []
  }
 ]
}