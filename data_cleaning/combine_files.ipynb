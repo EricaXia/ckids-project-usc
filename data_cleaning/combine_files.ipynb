{
 "nbformat": 4,
 "nbformat_minor": 2,
 "metadata": {
  "language_info": {
   "name": "python",
   "codemirror_mode": {
    "name": "ipython",
    "version": 3
   },
   "version": "3.7.6-final"
  },
  "orig_nbformat": 2,
  "file_extension": ".py",
  "mimetype": "text/x-python",
  "name": "python",
  "npconvert_exporter": "python",
  "pygments_lexer": "ipython3",
  "version": 3,
  "kernelspec": {
   "name": "python37664bitckidscondaeba5e997e95d433391cca1cee29345d7",
   "display_name": "Python 3.7.6 64-bit ('ckids': conda)"
  }
 },
 "cells": [
  {
   "cell_type": "code",
   "execution_count": 1,
   "metadata": {},
   "outputs": [],
   "source": [
    "import lzma\n",
    "import json\n",
    "import pandas as pd\n",
    "import numpy as np\n",
    "import re\n",
    "import glob\n",
    "import os\n",
    "import sys\n",
    "import multiprocessing as mp\n",
    "import pickle"
   ]
  },
  {
   "cell_type": "code",
   "execution_count": 2,
   "metadata": {},
   "outputs": [],
   "source": [
    "os.chdir(\"data\\loc_data\")"
   ]
  },
  {
   "cell_type": "code",
   "execution_count": 3,
   "metadata": {},
   "outputs": [
    {
     "output_type": "execute_result",
     "data": {
      "text/plain": "'c:\\\\Users\\\\erica\\\\OneDrive - University of Southern California\\\\Projects_at_USC\\\\CKIDS_current\\\\data\\\\loc_data'"
     },
     "metadata": {},
     "execution_count": 3
    }
   ],
   "source": [
    "os.getcwd()"
   ]
  },
  {
   "cell_type": "code",
   "execution_count": 4,
   "metadata": {},
   "outputs": [
    {
     "output_type": "stream",
     "name": "stdout",
     "text": "1248\n1235\n1249\n795\n"
    }
   ],
   "source": [
    "# lists of file names\n",
    "# json xz\n",
    "json_files = glob.glob(\"*_UTC.json\")\n",
    "# descrip txts\n",
    "txt_files = glob.glob(\"*_UTC.txt\")\n",
    "# location txts\n",
    "loc_files = glob.glob(\"*_location.txt\")\n",
    "# comments jsons\n",
    "cmt_files = glob.glob(\"*_comments.json\")\n",
    "\n",
    "\n",
    "print(len(json_files))\n",
    "print(len(txt_files))\n",
    "print(len(loc_files))\n",
    "print(len(cmt_files))"
   ]
  },
  {
   "cell_type": "code",
   "execution_count": 6,
   "metadata": {},
   "outputs": [
    {
     "output_type": "stream",
     "name": "stdout",
     "text": "1248\n"
    }
   ],
   "source": [
    "# with open('jsons.pkl', 'rb') as f:\n",
    "#     jsons = pickle.load(f)\n",
    "\n",
    "# print(len(jsons))"
   ]
  },
  {
   "cell_type": "code",
   "execution_count": 33,
   "metadata": {
    "tags": [
     "outputPrepend",
     "outputPrepend",
     "outputPrepend",
     "outputPrepend",
     "outputPrepend",
     "outputPrepend",
     "outputPrepend",
     "outputPrepend",
     "outputPrepend",
     "outputPrepend",
     "outputPrepend",
     "outputPrepend",
     "outputPrepend",
     "outputPrepend",
     "outputPrepend",
     "outputPrepend",
     "outputPrepend",
     "outputPrepend",
     "outputPrepend",
     "outputPrepend",
     "outputPrepend",
     "outputPrepend",
     "outputPrepend",
     "outputPrepend",
     "outputPrepend",
     "outputPrepend",
     "outputPrepend",
     "outputPrepend",
     "outputPrepend",
     "outputPrepend",
     "outputPrepend",
     "outputPrepend",
     "outputPrepend",
     "outputPrepend",
     "outputPrepend",
     "outputPrepend",
     "outputPrepend",
     "outputPrepend",
     "outputPrepend",
     "outputPrepend",
     "outputPrepend",
     "outputPrepend",
     "outputPrepend",
     "outputPrepend",
     "outputPrepend",
     "outputPrepend",
     "outputPrepend",
     "outputPrepend",
     "outputPrepend",
     "outputPrepend",
     "outputPrepend",
     "outputPrepend",
     "outputPrepend",
     "outputPrepend",
     "outputPrepend",
     "outputPrepend",
     "outputPrepend",
     "outputPrepend",
     "outputPrepend",
     "outputPrepend",
     "outputPrepend",
     "outputPrepend",
     "outputPrepend",
     "outputPrepend",
     "outputPrepend",
     "outputPrepend",
     "outputPrepend",
     "outputPrepend",
     "outputPrepend",
     "outputPrepend",
     "outputPrepend",
     "outputPrepend",
     "outputPrepend",
     "outputPrepend",
     "outputPrepend",
     "outputPrepend",
     "outputPrepend",
     "outputPrepend",
     "outputPrepend",
     "outputPrepend",
     "outputPrepend",
     "outputPrepend",
     "outputPrepend",
     "outputPrepend",
     "outputPrepend",
     "outputPrepend",
     "outputPrepend",
     "outputPrepend",
     "outputPrepend",
     "outputPrepend",
     "outputPrepend",
     "outputPrepend",
     "outputPrepend",
     "outputPrepend",
     "outputPrepend",
     "outputPrepend",
     "outputPrepend",
     "outputPrepend",
     "outputPrepend",
     "outputPrepend",
     "outputPrepend",
     "outputPrepend",
     "outputPrepend",
     "outputPrepend",
     "outputPrepend",
     "outputPrepend",
     "outputPrepend",
     "outputPrepend",
     "outputPrepend",
     "outputPrepend",
     "outputPrepend",
     "outputPrepend"
    ]
   },
   "outputs": [],
   "source": [
    "# Add all json files to a dataframe\n",
    "temp = pd.DataFrame()\n",
    "\n",
    "path_to_json = 'data\\loc_data' \n",
    "\n",
    "json_pattern = os.path.join(path_to_json,'*_UTC.json')\n",
    "file_list = glob.glob(json_pattern)\n",
    "\n",
    "for file in json_files:\n",
    "    # print(file)\n",
    "    data = pd.read_json(file, orient=str)\n",
    "    postnode = data['node']\n",
    "    temp = temp.append(postnode, ignore_index = True)"
   ]
  },
  {
   "cell_type": "code",
   "execution_count": 34,
   "metadata": {},
   "outputs": [
    {
     "output_type": "execute_result",
     "data": {
      "text/plain": "(1248, 50)"
     },
     "metadata": {},
     "execution_count": 34
    }
   ],
   "source": [
    "temp.shape"
   ]
  },
  {
   "cell_type": "code",
   "execution_count": 35,
   "metadata": {},
   "outputs": [
    {
     "output_type": "execute_result",
     "data": {
      "text/plain": "   __typename                              accessibility_caption  \\\n0  GraphVideo                                               None   \n1  GraphImage  Photo by Kathy Wingo in Ralph Brennan's Jazz K...   \n2  GraphImage  Photo by 𝗘𝗻𝗴𝗹𝗶𝘀𝗵𝗺𝗮𝗻 & 𝗰𝗼𝗿𝗴𝗶 in FIGat7th. Image...   \n\n   caption_is_edited  commenting_disabled_for_viewer  comments_disabled  \\\n0                1.0                             0.0                0.0   \n1                0.0                             0.0                0.0   \n2                0.0                             0.0                0.0   \n\n                                           dash_info  \\\n0  {'is_dash_eligible': True, 'number_of_qualitie...   \n1                                                NaN   \n2                                                NaN   \n\n                        dimensions  \\\n0    {'height': 937, 'width': 750}   \n1  {'height': 1080, 'width': 1080}   \n2  {'height': 1080, 'width': 1080}   \n\n                                   display_resources  \\\n0  [{'config_height': 800, 'config_width': 640, '...   \n1  [{'config_height': 640, 'config_width': 640, '...   \n2  [{'config_height': 640, 'config_width': 640, '...   \n\n                                         display_url   edge_liked_by  ...  \\\n0  https://scontent-sjc3-1.cdninstagram.com/v/t51...  {'count': 234}  ...   \n1  https://scontent-sjc3-1.cdninstagram.com/v/t51...   {'count': 12}  ...   \n2  https://scontent-sjc3-1.cdninstagram.com/v/t51...   {'count': 33}  ...   \n\n  version video_duration                                          video_url  \\\n0     NaN         18.833  https://scontent-sjc3-1.cdninstagram.com/v/t50...   \n1     NaN            NaN                                                NaN   \n2     NaN            NaN                                                NaN   \n\n  video_view_count viewer_can_reshare viewer_has_liked viewer_has_saved  \\\n0           2740.0                1.0              0.0              0.0   \n1              NaN                1.0              0.0              0.0   \n2              NaN                1.0              0.0              0.0   \n\n  viewer_has_saved_to_collection viewer_in_photo_of_you  \\\n0                            0.0                    0.0   \n1                            0.0                    0.0   \n2                            0.0                    0.0   \n\n  edge_sidecar_to_children  \n0                      NaN  \n1                      NaN  \n2                      NaN  \n\n[3 rows x 50 columns]",
      "text/html": "<div>\n<style scoped>\n    .dataframe tbody tr th:only-of-type {\n        vertical-align: middle;\n    }\n\n    .dataframe tbody tr th {\n        vertical-align: top;\n    }\n\n    .dataframe thead th {\n        text-align: right;\n    }\n</style>\n<table border=\"1\" class=\"dataframe\">\n  <thead>\n    <tr style=\"text-align: right;\">\n      <th></th>\n      <th>__typename</th>\n      <th>accessibility_caption</th>\n      <th>caption_is_edited</th>\n      <th>commenting_disabled_for_viewer</th>\n      <th>comments_disabled</th>\n      <th>dash_info</th>\n      <th>dimensions</th>\n      <th>display_resources</th>\n      <th>display_url</th>\n      <th>edge_liked_by</th>\n      <th>...</th>\n      <th>version</th>\n      <th>video_duration</th>\n      <th>video_url</th>\n      <th>video_view_count</th>\n      <th>viewer_can_reshare</th>\n      <th>viewer_has_liked</th>\n      <th>viewer_has_saved</th>\n      <th>viewer_has_saved_to_collection</th>\n      <th>viewer_in_photo_of_you</th>\n      <th>edge_sidecar_to_children</th>\n    </tr>\n  </thead>\n  <tbody>\n    <tr>\n      <th>0</th>\n      <td>GraphVideo</td>\n      <td>None</td>\n      <td>1.0</td>\n      <td>0.0</td>\n      <td>0.0</td>\n      <td>{'is_dash_eligible': True, 'number_of_qualitie...</td>\n      <td>{'height': 937, 'width': 750}</td>\n      <td>[{'config_height': 800, 'config_width': 640, '...</td>\n      <td>https://scontent-sjc3-1.cdninstagram.com/v/t51...</td>\n      <td>{'count': 234}</td>\n      <td>...</td>\n      <td>NaN</td>\n      <td>18.833</td>\n      <td>https://scontent-sjc3-1.cdninstagram.com/v/t50...</td>\n      <td>2740.0</td>\n      <td>1.0</td>\n      <td>0.0</td>\n      <td>0.0</td>\n      <td>0.0</td>\n      <td>0.0</td>\n      <td>NaN</td>\n    </tr>\n    <tr>\n      <th>1</th>\n      <td>GraphImage</td>\n      <td>Photo by Kathy Wingo in Ralph Brennan's Jazz K...</td>\n      <td>0.0</td>\n      <td>0.0</td>\n      <td>0.0</td>\n      <td>NaN</td>\n      <td>{'height': 1080, 'width': 1080}</td>\n      <td>[{'config_height': 640, 'config_width': 640, '...</td>\n      <td>https://scontent-sjc3-1.cdninstagram.com/v/t51...</td>\n      <td>{'count': 12}</td>\n      <td>...</td>\n      <td>NaN</td>\n      <td>NaN</td>\n      <td>NaN</td>\n      <td>NaN</td>\n      <td>1.0</td>\n      <td>0.0</td>\n      <td>0.0</td>\n      <td>0.0</td>\n      <td>0.0</td>\n      <td>NaN</td>\n    </tr>\n    <tr>\n      <th>2</th>\n      <td>GraphImage</td>\n      <td>Photo by 𝗘𝗻𝗴𝗹𝗶𝘀𝗵𝗺𝗮𝗻 &amp; 𝗰𝗼𝗿𝗴𝗶 in FIGat7th. Image...</td>\n      <td>0.0</td>\n      <td>0.0</td>\n      <td>0.0</td>\n      <td>NaN</td>\n      <td>{'height': 1080, 'width': 1080}</td>\n      <td>[{'config_height': 640, 'config_width': 640, '...</td>\n      <td>https://scontent-sjc3-1.cdninstagram.com/v/t51...</td>\n      <td>{'count': 33}</td>\n      <td>...</td>\n      <td>NaN</td>\n      <td>NaN</td>\n      <td>NaN</td>\n      <td>NaN</td>\n      <td>1.0</td>\n      <td>0.0</td>\n      <td>0.0</td>\n      <td>0.0</td>\n      <td>0.0</td>\n      <td>NaN</td>\n    </tr>\n  </tbody>\n</table>\n<p>3 rows × 50 columns</p>\n</div>"
     },
     "metadata": {},
     "execution_count": 35
    }
   ],
   "source": [
    "temp.head(3)"
   ]
  },
  {
   "cell_type": "code",
   "execution_count": 57,
   "metadata": {},
   "outputs": [],
   "source": [
    "json_fnames = [f.split('.json')[0] for f in json_files]\n",
    "json_fnamesS = pd.Series(json_fnames)\n",
    "temp['file_name'] = json_fnamesS"
   ]
  },
  {
   "cell_type": "code",
   "execution_count": 58,
   "metadata": {},
   "outputs": [
    {
     "output_type": "stream",
     "name": "stdout",
     "text": "(850, 51)\n"
    }
   ],
   "source": [
    "temp2 = temp[temp['__typename'] == \"GraphImage\"]\n",
    "print(temp2.shape)"
   ]
  },
  {
   "cell_type": "code",
   "execution_count": 59,
   "metadata": {},
   "outputs": [],
   "source": [
    "# temp2.columns"
   ]
  },
  {
   "cell_type": "code",
   "execution_count": 60,
   "metadata": {},
   "outputs": [],
   "source": [
    "# temp2.iloc[0]"
   ]
  },
  {
   "cell_type": "code",
   "execution_count": 61,
   "metadata": {},
   "outputs": [],
   "source": [
    "df = temp2[['file_name', 'accessibility_caption', 'display_url', 'edge_liked_by', 'id', 'is_ad', 'location', 'owner', 'taken_at_timestamp']]"
   ]
  },
  {
   "cell_type": "code",
   "execution_count": 62,
   "metadata": {},
   "outputs": [
    {
     "output_type": "execute_result",
     "data": {
      "text/plain": "                 file_name                              accessibility_caption  \\\n1  2020-03-01_02-19-47_UTC  Photo by Kathy Wingo in Ralph Brennan's Jazz K...   \n2  2020-03-01_02-58-19_UTC  Photo by 𝗘𝗻𝗴𝗹𝗶𝘀𝗵𝗺𝗮𝗻 & 𝗰𝗼𝗿𝗴𝗶 in FIGat7th. Image...   \n3  2020-03-01_03-17-11_UTC  Photo by fernandaSR. in Yard House. Image may ...   \n5  2020-03-01_04-47-43_UTC  Photo by Scott Olson in FIGat7th. Image may co...   \n8  2020-03-01_05-44-24_UTC  Photo by Mary Valdemar in Ralph Brennan's Jazz...   \n\n                                         display_url  edge_liked_by  \\\n1  https://scontent-sjc3-1.cdninstagram.com/v/t51...  {'count': 12}   \n2  https://scontent-sjc3-1.cdninstagram.com/v/t51...  {'count': 33}   \n3  https://scontent-sjc3-1.cdninstagram.com/v/t51...   {'count': 8}   \n5  https://scontent-sjc3-1.cdninstagram.com/v/t51...  {'count': 14}   \n8  https://scontent-sjc3-1.cdninstagram.com/v/t51...  {'count': 30}   \n\n                    id  is_ad  \\\n1  2254934715736168674    0.0   \n2  2254954116237586018    0.0   \n3  2254963604793427950    0.0   \n5  2255009173700278683    0.0   \n8  2255037702045019382    0.0   \n\n                                            location  \\\n1  {'has_public_page': True, 'id': 1962700, 'lat'...   \n2  {'has_public_page': True, 'id': 4817825, 'lat'...   \n3  {'has_public_page': True, 'id': 16623381005376...   \n5  {'has_public_page': True, 'id': 4817825, 'lat'...   \n8  {'has_public_page': True, 'id': 1962700, 'lat'...   \n\n                                               owner  taken_at_timestamp  \n1  {'blocked_by_viewer': False, 'edge_owner_to_ti...        1.583029e+09  \n2  {'blocked_by_viewer': False, 'edge_owner_to_ti...        1.583031e+09  \n3  {'blocked_by_viewer': False, 'edge_owner_to_ti...        1.583033e+09  \n5  {'blocked_by_viewer': False, 'edge_owner_to_ti...        1.583038e+09  \n8  {'blocked_by_viewer': False, 'edge_owner_to_ti...        1.583041e+09  ",
      "text/html": "<div>\n<style scoped>\n    .dataframe tbody tr th:only-of-type {\n        vertical-align: middle;\n    }\n\n    .dataframe tbody tr th {\n        vertical-align: top;\n    }\n\n    .dataframe thead th {\n        text-align: right;\n    }\n</style>\n<table border=\"1\" class=\"dataframe\">\n  <thead>\n    <tr style=\"text-align: right;\">\n      <th></th>\n      <th>file_name</th>\n      <th>accessibility_caption</th>\n      <th>display_url</th>\n      <th>edge_liked_by</th>\n      <th>id</th>\n      <th>is_ad</th>\n      <th>location</th>\n      <th>owner</th>\n      <th>taken_at_timestamp</th>\n    </tr>\n  </thead>\n  <tbody>\n    <tr>\n      <th>1</th>\n      <td>2020-03-01_02-19-47_UTC</td>\n      <td>Photo by Kathy Wingo in Ralph Brennan's Jazz K...</td>\n      <td>https://scontent-sjc3-1.cdninstagram.com/v/t51...</td>\n      <td>{'count': 12}</td>\n      <td>2254934715736168674</td>\n      <td>0.0</td>\n      <td>{'has_public_page': True, 'id': 1962700, 'lat'...</td>\n      <td>{'blocked_by_viewer': False, 'edge_owner_to_ti...</td>\n      <td>1.583029e+09</td>\n    </tr>\n    <tr>\n      <th>2</th>\n      <td>2020-03-01_02-58-19_UTC</td>\n      <td>Photo by 𝗘𝗻𝗴𝗹𝗶𝘀𝗵𝗺𝗮𝗻 &amp; 𝗰𝗼𝗿𝗴𝗶 in FIGat7th. Image...</td>\n      <td>https://scontent-sjc3-1.cdninstagram.com/v/t51...</td>\n      <td>{'count': 33}</td>\n      <td>2254954116237586018</td>\n      <td>0.0</td>\n      <td>{'has_public_page': True, 'id': 4817825, 'lat'...</td>\n      <td>{'blocked_by_viewer': False, 'edge_owner_to_ti...</td>\n      <td>1.583031e+09</td>\n    </tr>\n    <tr>\n      <th>3</th>\n      <td>2020-03-01_03-17-11_UTC</td>\n      <td>Photo by fernandaSR. in Yard House. Image may ...</td>\n      <td>https://scontent-sjc3-1.cdninstagram.com/v/t51...</td>\n      <td>{'count': 8}</td>\n      <td>2254963604793427950</td>\n      <td>0.0</td>\n      <td>{'has_public_page': True, 'id': 16623381005376...</td>\n      <td>{'blocked_by_viewer': False, 'edge_owner_to_ti...</td>\n      <td>1.583033e+09</td>\n    </tr>\n    <tr>\n      <th>5</th>\n      <td>2020-03-01_04-47-43_UTC</td>\n      <td>Photo by Scott Olson in FIGat7th. Image may co...</td>\n      <td>https://scontent-sjc3-1.cdninstagram.com/v/t51...</td>\n      <td>{'count': 14}</td>\n      <td>2255009173700278683</td>\n      <td>0.0</td>\n      <td>{'has_public_page': True, 'id': 4817825, 'lat'...</td>\n      <td>{'blocked_by_viewer': False, 'edge_owner_to_ti...</td>\n      <td>1.583038e+09</td>\n    </tr>\n    <tr>\n      <th>8</th>\n      <td>2020-03-01_05-44-24_UTC</td>\n      <td>Photo by Mary Valdemar in Ralph Brennan's Jazz...</td>\n      <td>https://scontent-sjc3-1.cdninstagram.com/v/t51...</td>\n      <td>{'count': 30}</td>\n      <td>2255037702045019382</td>\n      <td>0.0</td>\n      <td>{'has_public_page': True, 'id': 1962700, 'lat'...</td>\n      <td>{'blocked_by_viewer': False, 'edge_owner_to_ti...</td>\n      <td>1.583041e+09</td>\n    </tr>\n  </tbody>\n</table>\n</div>"
     },
     "metadata": {},
     "execution_count": 62
    }
   ],
   "source": [
    "df.head()"
   ]
  },
  {
   "cell_type": "code",
   "execution_count": 63,
   "metadata": {},
   "outputs": [],
   "source": [
    "df.to_csv(\"post_jsons_df.csv\")"
   ]
  },
  {
   "cell_type": "code",
   "execution_count": 6,
   "metadata": {},
   "outputs": [],
   "source": [
    "# load progress\n",
    "os.chdir(r'C:\\Users\\erica\\OneDrive - University of Southern California\\Projects_at_USC\\CKIDS_current\\data')\n",
    "df = pd.read_csv(r\"post_jsons_df.csv\", index_col=0)"
   ]
  },
  {
   "cell_type": "code",
   "execution_count": 40,
   "metadata": {},
   "outputs": [],
   "source": [
    "# Read in text descrip files (hashtags)"
   ]
  },
  {
   "cell_type": "code",
   "execution_count": 19,
   "metadata": {},
   "outputs": [],
   "source": [
    "def read_txt(file):\n",
    "    text = open(file, \"r\", encoding=\"utf8\").read()\n",
    "    return text   # return as string\n",
    "\n",
    "\n",
    "def get_ht(text):\n",
    "    ht = re.findall(r\"#(\\w+)\", text)\n",
    "    return ht"
   ]
  },
  {
   "cell_type": "code",
   "execution_count": 17,
   "metadata": {},
   "outputs": [],
   "source": [
    "texts = []\n",
    "\n",
    "for f in txt_files:\n",
    "    text = open(f, 'r', encoding=\"utf8\").read()\n",
    "    texts.append(text) "
   ]
  },
  {
   "cell_type": "code",
   "execution_count": null,
   "metadata": {},
   "outputs": [],
   "source": []
  },
  {
   "cell_type": "code",
   "execution_count": 20,
   "metadata": {},
   "outputs": [],
   "source": [
    "texts = list(map(read_txt, txt_files))\n",
    "hashtags = list(map(get_ht, texts))"
   ]
  },
  {
   "cell_type": "code",
   "execution_count": 24,
   "metadata": {},
   "outputs": [],
   "source": [
    "# get file names\n",
    "txt_fnames = [f.split('.txt')[0] for f in txt_files]\n",
    "\n",
    "# convert all to series, and concat them to a df\n",
    "textsS = pd.Series(texts)\n",
    "hashtagsS = pd.Series(hashtags)\n",
    "txt_fnamesS = pd.Series(txt_fnames)\n",
    "\n",
    "df_txt = pd.DataFrame(pd.concat([txt_fnamesS, textsS, hashtagsS], axis=1))\n",
    "df_txt.columns = ['file_name', 'descrip', 'hashtags']"
   ]
  },
  {
   "cell_type": "code",
   "execution_count": 27,
   "metadata": {},
   "outputs": [],
   "source": [
    "df_txt.to_csv(\"df_txt.csv\")"
   ]
  },
  {
   "cell_type": "code",
   "execution_count": null,
   "metadata": {},
   "outputs": [],
   "source": []
  },
  {
   "cell_type": "code",
   "execution_count": null,
   "metadata": {},
   "outputs": [],
   "source": [
    "# Join the json df and txt df by their common filename"
   ]
  },
  {
   "cell_type": "code",
   "execution_count": 64,
   "metadata": {},
   "outputs": [
    {
     "output_type": "stream",
     "name": "stdout",
     "text": "Index(['file_name', 'descrip', 'hashtags'], dtype='object')\nIndex(['file_name', 'accessibility_caption', 'display_url', 'edge_liked_by',\n       'id', 'is_ad', 'location', 'owner', 'taken_at_timestamp'],\n      dtype='object')\n"
    }
   ],
   "source": [
    "print(df_txt.columns)\n",
    "print(df.columns)"
   ]
  },
  {
   "cell_type": "code",
   "execution_count": 65,
   "metadata": {},
   "outputs": [
    {
     "output_type": "execute_result",
     "data": {
      "text/plain": "0    2020-03-01_00-43-27_UTC\n1    2020-03-01_02-19-47_UTC\n2    2020-03-01_02-58-19_UTC\n3    2020-03-01_03-17-11_UTC\n4    2020-03-01_03-28-06_UTC\nName: file_name, dtype: object"
     },
     "metadata": {},
     "execution_count": 65
    }
   ],
   "source": [
    "df_txt['file_name'].head()"
   ]
  },
  {
   "cell_type": "code",
   "execution_count": 66,
   "metadata": {},
   "outputs": [
    {
     "output_type": "execute_result",
     "data": {
      "text/plain": "<bound method NDFrame.head of 1       2020-03-01_02-19-47_UTC\n2       2020-03-01_02-58-19_UTC\n3       2020-03-01_03-17-11_UTC\n5       2020-03-01_04-47-43_UTC\n8       2020-03-01_05-44-24_UTC\n                 ...           \n1243    2020-03-26_22-29-37_UTC\n1244    2020-03-26_22-53-52_UTC\n1245    2020-03-26_23-04-48_UTC\n1246    2020-03-26_23-07-16_UTC\n1247    2020-03-26_23-45-12_UTC\nName: file_name, Length: 850, dtype: object>"
     },
     "metadata": {},
     "execution_count": 66
    }
   ],
   "source": [
    "df['file_name'].head"
   ]
  },
  {
   "cell_type": "code",
   "execution_count": 67,
   "metadata": {},
   "outputs": [
    {
     "output_type": "stream",
     "name": "stdout",
     "text": "(801, 11)\n"
    }
   ],
   "source": [
    "# merge the post metadata (jsons) df and text descrip df (txt)\n",
    "merged = pd.merge(df, df_txt, on='file_name')\n",
    "print(merged.shape)"
   ]
  },
  {
   "cell_type": "code",
   "execution_count": 68,
   "metadata": {},
   "outputs": [
    {
     "output_type": "execute_result",
     "data": {
      "text/plain": "                 file_name                              accessibility_caption  \\\n0  2020-03-01_02-19-47_UTC  Photo by Kathy Wingo in Ralph Brennan's Jazz K...   \n1  2020-03-01_02-58-19_UTC  Photo by 𝗘𝗻𝗴𝗹𝗶𝘀𝗵𝗺𝗮𝗻 & 𝗰𝗼𝗿𝗴𝗶 in FIGat7th. Image...   \n2  2020-03-01_03-17-11_UTC  Photo by fernandaSR. in Yard House. Image may ...   \n3  2020-03-01_04-47-43_UTC  Photo by Scott Olson in FIGat7th. Image may co...   \n4  2020-03-01_05-44-24_UTC  Photo by Mary Valdemar in Ralph Brennan's Jazz...   \n\n                                         display_url  edge_liked_by  \\\n0  https://scontent-sjc3-1.cdninstagram.com/v/t51...  {'count': 12}   \n1  https://scontent-sjc3-1.cdninstagram.com/v/t51...  {'count': 33}   \n2  https://scontent-sjc3-1.cdninstagram.com/v/t51...   {'count': 8}   \n3  https://scontent-sjc3-1.cdninstagram.com/v/t51...  {'count': 14}   \n4  https://scontent-sjc3-1.cdninstagram.com/v/t51...  {'count': 30}   \n\n                    id  is_ad  \\\n0  2254934715736168674    0.0   \n1  2254954116237586018    0.0   \n2  2254963604793427950    0.0   \n3  2255009173700278683    0.0   \n4  2255037702045019382    0.0   \n\n                                            location  \\\n0  {'has_public_page': True, 'id': 1962700, 'lat'...   \n1  {'has_public_page': True, 'id': 4817825, 'lat'...   \n2  {'has_public_page': True, 'id': 16623381005376...   \n3  {'has_public_page': True, 'id': 4817825, 'lat'...   \n4  {'has_public_page': True, 'id': 1962700, 'lat'...   \n\n                                               owner  taken_at_timestamp  \\\n0  {'blocked_by_viewer': False, 'edge_owner_to_ti...        1.583029e+09   \n1  {'blocked_by_viewer': False, 'edge_owner_to_ti...        1.583031e+09   \n2  {'blocked_by_viewer': False, 'edge_owner_to_ti...        1.583033e+09   \n3  {'blocked_by_viewer': False, 'edge_owner_to_ti...        1.583038e+09   \n4  {'blocked_by_viewer': False, 'edge_owner_to_ti...        1.583041e+09   \n\n                                             descrip  \\\n0                                          Cheers!\\n   \n1  Green grass \\n#Corgi #CorgiAddict #CorgiCommun...   \n2                                       Relax time\\n   \n3                        Somebody call the LAFD! 🔥\\n   \n4                         #GrayHair <3 #BluesNJazz\\n   \n\n                                            hashtags  \n0                                                 []  \n1  [Corgi, CorgiAddict, CorgiCommunity, コーギー, 코기,...  \n2                                                 []  \n3                                                 []  \n4                             [GrayHair, BluesNJazz]  ",
      "text/html": "<div>\n<style scoped>\n    .dataframe tbody tr th:only-of-type {\n        vertical-align: middle;\n    }\n\n    .dataframe tbody tr th {\n        vertical-align: top;\n    }\n\n    .dataframe thead th {\n        text-align: right;\n    }\n</style>\n<table border=\"1\" class=\"dataframe\">\n  <thead>\n    <tr style=\"text-align: right;\">\n      <th></th>\n      <th>file_name</th>\n      <th>accessibility_caption</th>\n      <th>display_url</th>\n      <th>edge_liked_by</th>\n      <th>id</th>\n      <th>is_ad</th>\n      <th>location</th>\n      <th>owner</th>\n      <th>taken_at_timestamp</th>\n      <th>descrip</th>\n      <th>hashtags</th>\n    </tr>\n  </thead>\n  <tbody>\n    <tr>\n      <th>0</th>\n      <td>2020-03-01_02-19-47_UTC</td>\n      <td>Photo by Kathy Wingo in Ralph Brennan's Jazz K...</td>\n      <td>https://scontent-sjc3-1.cdninstagram.com/v/t51...</td>\n      <td>{'count': 12}</td>\n      <td>2254934715736168674</td>\n      <td>0.0</td>\n      <td>{'has_public_page': True, 'id': 1962700, 'lat'...</td>\n      <td>{'blocked_by_viewer': False, 'edge_owner_to_ti...</td>\n      <td>1.583029e+09</td>\n      <td>Cheers!\\n</td>\n      <td>[]</td>\n    </tr>\n    <tr>\n      <th>1</th>\n      <td>2020-03-01_02-58-19_UTC</td>\n      <td>Photo by 𝗘𝗻𝗴𝗹𝗶𝘀𝗵𝗺𝗮𝗻 &amp; 𝗰𝗼𝗿𝗴𝗶 in FIGat7th. Image...</td>\n      <td>https://scontent-sjc3-1.cdninstagram.com/v/t51...</td>\n      <td>{'count': 33}</td>\n      <td>2254954116237586018</td>\n      <td>0.0</td>\n      <td>{'has_public_page': True, 'id': 4817825, 'lat'...</td>\n      <td>{'blocked_by_viewer': False, 'edge_owner_to_ti...</td>\n      <td>1.583031e+09</td>\n      <td>Green grass \\n#Corgi #CorgiAddict #CorgiCommun...</td>\n      <td>[Corgi, CorgiAddict, CorgiCommunity, コーギー, 코기,...</td>\n    </tr>\n    <tr>\n      <th>2</th>\n      <td>2020-03-01_03-17-11_UTC</td>\n      <td>Photo by fernandaSR. in Yard House. Image may ...</td>\n      <td>https://scontent-sjc3-1.cdninstagram.com/v/t51...</td>\n      <td>{'count': 8}</td>\n      <td>2254963604793427950</td>\n      <td>0.0</td>\n      <td>{'has_public_page': True, 'id': 16623381005376...</td>\n      <td>{'blocked_by_viewer': False, 'edge_owner_to_ti...</td>\n      <td>1.583033e+09</td>\n      <td>Relax time\\n</td>\n      <td>[]</td>\n    </tr>\n    <tr>\n      <th>3</th>\n      <td>2020-03-01_04-47-43_UTC</td>\n      <td>Photo by Scott Olson in FIGat7th. Image may co...</td>\n      <td>https://scontent-sjc3-1.cdninstagram.com/v/t51...</td>\n      <td>{'count': 14}</td>\n      <td>2255009173700278683</td>\n      <td>0.0</td>\n      <td>{'has_public_page': True, 'id': 4817825, 'lat'...</td>\n      <td>{'blocked_by_viewer': False, 'edge_owner_to_ti...</td>\n      <td>1.583038e+09</td>\n      <td>Somebody call the LAFD! 🔥\\n</td>\n      <td>[]</td>\n    </tr>\n    <tr>\n      <th>4</th>\n      <td>2020-03-01_05-44-24_UTC</td>\n      <td>Photo by Mary Valdemar in Ralph Brennan's Jazz...</td>\n      <td>https://scontent-sjc3-1.cdninstagram.com/v/t51...</td>\n      <td>{'count': 30}</td>\n      <td>2255037702045019382</td>\n      <td>0.0</td>\n      <td>{'has_public_page': True, 'id': 1962700, 'lat'...</td>\n      <td>{'blocked_by_viewer': False, 'edge_owner_to_ti...</td>\n      <td>1.583041e+09</td>\n      <td>#GrayHair &lt;3 #BluesNJazz\\n</td>\n      <td>[GrayHair, BluesNJazz]</td>\n    </tr>\n  </tbody>\n</table>\n</div>"
     },
     "metadata": {},
     "execution_count": 68
    }
   ],
   "source": [
    "merged.head()"
   ]
  },
  {
   "cell_type": "code",
   "execution_count": 69,
   "metadata": {},
   "outputs": [],
   "source": [
    "merged.to_csv(\"posts_merged_df_1.csv\")"
   ]
  },
  {
   "cell_type": "code",
   "execution_count": null,
   "metadata": {},
   "outputs": [],
   "source": []
  }
 ]
}