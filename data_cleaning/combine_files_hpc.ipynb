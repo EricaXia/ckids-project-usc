{
 "nbformat": 4,
 "nbformat_minor": 2,
 "metadata": {
  "language_info": {
   "name": "python",
   "codemirror_mode": {
    "name": "ipython",
    "version": 3
   },
   "version": "3.7.6-final"
  },
  "orig_nbformat": 2,
  "file_extension": ".py",
  "mimetype": "text/x-python",
  "name": "python",
  "npconvert_exporter": "python",
  "pygments_lexer": "ipython3",
  "version": 3,
  "kernelspec": {
   "name": "python37664bitckidscondaeba5e997e95d433391cca1cee29345d7",
   "display_name": "Python 3.7.6 64-bit ('ckids': conda)"
  }
 },
 "cells": [
  {
   "cell_type": "code",
   "execution_count": 1,
   "metadata": {},
   "outputs": [],
   "source": [
    "import lzma\n",
    "import json\n",
    "import pandas as pd\n",
    "import numpy as np\n",
    "import re\n",
    "import glob\n",
    "import os\n",
    "import sys\n",
    "import multiprocessing as mp\n",
    "import pickle"
   ]
  },
  {
   "cell_type": "code",
   "execution_count": 2,
   "metadata": {},
   "outputs": [],
   "source": [
    "os.chdir(\"data\\loc_data_hpc\")"
   ]
  },
  {
   "cell_type": "code",
   "execution_count": 3,
   "metadata": {},
   "outputs": [
    {
     "output_type": "execute_result",
     "data": {
      "text/plain": "'c:\\\\Users\\\\erica\\\\OneDrive - University of Southern California\\\\Projects_at_USC\\\\CKIDS_current\\\\data\\\\loc_data_hpc'"
     },
     "metadata": {},
     "execution_count": 3
    }
   ],
   "source": [
    "os.getcwd()"
   ]
  },
  {
   "cell_type": "code",
   "execution_count": 4,
   "metadata": {},
   "outputs": [
    {
     "output_type": "stream",
     "name": "stdout",
     "text": "1588\n1216\n1243\n1053\n"
    }
   ],
   "source": [
    "# lists of file names\n",
    "# json xz\n",
    "json_files = glob.glob(\"*_UTC.json\")\n",
    "# descrip txts\n",
    "txt_files = glob.glob(\"*_UTC.txt\")\n",
    "# location txts\n",
    "loc_files = glob.glob(\"*_location.txt\")\n",
    "# comments jsons\n",
    "cmt_files = glob.glob(\"*_comments.json\")\n",
    "\n",
    "\n",
    "print(len(json_files))\n",
    "print(len(txt_files))\n",
    "print(len(loc_files))\n",
    "print(len(cmt_files))"
   ]
  },
  {
   "cell_type": "code",
   "execution_count": 6,
   "metadata": {},
   "outputs": [
    {
     "output_type": "stream",
     "name": "stdout",
     "text": "2095\n"
    }
   ],
   "source": [
    "# num of jpgs?\n",
    "jpg_files = glob.glob(\"*.jpg\")\n",
    "print(len(jpg_files))"
   ]
  },
  {
   "cell_type": "code",
   "execution_count": 7,
   "metadata": {
    "tags": [
     "outputPrepend",
     "outputPrepend",
     "outputPrepend",
     "outputPrepend",
     "outputPrepend",
     "outputPrepend",
     "outputPrepend",
     "outputPrepend",
     "outputPrepend",
     "outputPrepend",
     "outputPrepend",
     "outputPrepend",
     "outputPrepend",
     "outputPrepend",
     "outputPrepend",
     "outputPrepend",
     "outputPrepend",
     "outputPrepend",
     "outputPrepend",
     "outputPrepend",
     "outputPrepend",
     "outputPrepend",
     "outputPrepend",
     "outputPrepend",
     "outputPrepend",
     "outputPrepend",
     "outputPrepend",
     "outputPrepend",
     "outputPrepend",
     "outputPrepend",
     "outputPrepend",
     "outputPrepend",
     "outputPrepend",
     "outputPrepend",
     "outputPrepend",
     "outputPrepend",
     "outputPrepend",
     "outputPrepend",
     "outputPrepend",
     "outputPrepend",
     "outputPrepend",
     "outputPrepend",
     "outputPrepend",
     "outputPrepend",
     "outputPrepend",
     "outputPrepend",
     "outputPrepend",
     "outputPrepend",
     "outputPrepend",
     "outputPrepend",
     "outputPrepend",
     "outputPrepend",
     "outputPrepend",
     "outputPrepend",
     "outputPrepend",
     "outputPrepend",
     "outputPrepend",
     "outputPrepend",
     "outputPrepend",
     "outputPrepend",
     "outputPrepend",
     "outputPrepend",
     "outputPrepend",
     "outputPrepend",
     "outputPrepend",
     "outputPrepend",
     "outputPrepend",
     "outputPrepend",
     "outputPrepend",
     "outputPrepend",
     "outputPrepend",
     "outputPrepend",
     "outputPrepend",
     "outputPrepend",
     "outputPrepend",
     "outputPrepend",
     "outputPrepend",
     "outputPrepend",
     "outputPrepend",
     "outputPrepend",
     "outputPrepend",
     "outputPrepend",
     "outputPrepend",
     "outputPrepend",
     "outputPrepend",
     "outputPrepend",
     "outputPrepend",
     "outputPrepend",
     "outputPrepend",
     "outputPrepend",
     "outputPrepend",
     "outputPrepend",
     "outputPrepend",
     "outputPrepend",
     "outputPrepend",
     "outputPrepend",
     "outputPrepend",
     "outputPrepend",
     "outputPrepend",
     "outputPrepend",
     "outputPrepend",
     "outputPrepend",
     "outputPrepend",
     "outputPrepend",
     "outputPrepend",
     "outputPrepend",
     "outputPrepend",
     "outputPrepend",
     "outputPrepend",
     "outputPrepend",
     "outputPrepend",
     "outputPrepend"
    ]
   },
   "outputs": [],
   "source": [
    "# Add all json files to a dataframe\n",
    "temp = pd.DataFrame()\n",
    "\n",
    "path_to_json = 'data\\loc_data_hpc' \n",
    "\n",
    "json_pattern = os.path.join(path_to_json,'*_UTC.json')\n",
    "file_list = glob.glob(json_pattern)\n",
    "\n",
    "for file in json_files:\n",
    "    # print(file)\n",
    "    data = pd.read_json(file, orient=str)\n",
    "    postnode = data['node']\n",
    "    temp = temp.append(postnode, ignore_index = True)"
   ]
  },
  {
   "cell_type": "code",
   "execution_count": 8,
   "metadata": {},
   "outputs": [
    {
     "output_type": "execute_result",
     "data": {
      "text/plain": "(1588, 50)"
     },
     "metadata": {},
     "execution_count": 8
    }
   ],
   "source": [
    "temp.shape"
   ]
  },
  {
   "cell_type": "code",
   "execution_count": 9,
   "metadata": {},
   "outputs": [
    {
     "output_type": "execute_result",
     "data": {
      "text/plain": "   __typename                              accessibility_caption  \\\n0  GraphImage  Photo by Amanda Berkowitz in Maccheroni Republ...   \n1  GraphVideo                                               None   \n2  GraphImage  Photo by Happy in Drago Centro with @mpsiox, @...   \n\n   caption_is_edited  commenting_disabled_for_viewer  comments_disabled  \\\n0                0.0                             0.0                0.0   \n1                1.0                             0.0                0.0   \n2                0.0                             0.0                0.0   \n\n                        dimensions  \\\n0  {'height': 1350, 'width': 1080}   \n1    {'height': 937, 'width': 750}   \n2  {'height': 1080, 'width': 1080}   \n\n                                   display_resources  \\\n0  [{'config_height': 800, 'config_width': 640, '...   \n1  [{'config_height': 800, 'config_width': 640, '...   \n2  [{'config_height': 640, 'config_width': 640, '...   \n\n                                         display_url   edge_liked_by  \\\n0  https://scontent-lax3-1.cdninstagram.com/v/t51...   {'count': 17}   \n1  https://scontent-lax3-1.cdninstagram.com/v/t51...  {'count': 234}   \n2  https://scontent-lax3-1.cdninstagram.com/v/t51...   {'count': 49}   \n\n                          edge_media_preview_comment  ...  \\\n0                          {'count': 0, 'edges': []}  ...   \n1  {'count': 28, 'edges': [{'node': {'created_at'...  ...   \n2  {'count': 3, 'edges': [{'node': {'created_at':...  ...   \n\n  viewer_in_photo_of_you                                          dash_info  \\\n0                    0.0                                                NaN   \n1                    0.0  {'is_dash_eligible': True, 'number_of_qualitie...   \n2                    0.0                                                NaN   \n\n  encoding_status is_published product_type title video_duration  \\\n0             NaN          NaN          NaN   NaN            NaN   \n1            None          1.0         feed               18.833   \n2             NaN          NaN          NaN   NaN            NaN   \n\n                                           video_url video_view_count  \\\n0                                                NaN              NaN   \n1  https://scontent-lax3-1.cdninstagram.com/v/t50...           2740.0   \n2                                                NaN              NaN   \n\n  edge_sidecar_to_children  \n0                      NaN  \n1                      NaN  \n2                      NaN  \n\n[3 rows x 50 columns]",
      "text/html": "<div>\n<style scoped>\n    .dataframe tbody tr th:only-of-type {\n        vertical-align: middle;\n    }\n\n    .dataframe tbody tr th {\n        vertical-align: top;\n    }\n\n    .dataframe thead th {\n        text-align: right;\n    }\n</style>\n<table border=\"1\" class=\"dataframe\">\n  <thead>\n    <tr style=\"text-align: right;\">\n      <th></th>\n      <th>__typename</th>\n      <th>accessibility_caption</th>\n      <th>caption_is_edited</th>\n      <th>commenting_disabled_for_viewer</th>\n      <th>comments_disabled</th>\n      <th>dimensions</th>\n      <th>display_resources</th>\n      <th>display_url</th>\n      <th>edge_liked_by</th>\n      <th>edge_media_preview_comment</th>\n      <th>...</th>\n      <th>viewer_in_photo_of_you</th>\n      <th>dash_info</th>\n      <th>encoding_status</th>\n      <th>is_published</th>\n      <th>product_type</th>\n      <th>title</th>\n      <th>video_duration</th>\n      <th>video_url</th>\n      <th>video_view_count</th>\n      <th>edge_sidecar_to_children</th>\n    </tr>\n  </thead>\n  <tbody>\n    <tr>\n      <th>0</th>\n      <td>GraphImage</td>\n      <td>Photo by Amanda Berkowitz in Maccheroni Republ...</td>\n      <td>0.0</td>\n      <td>0.0</td>\n      <td>0.0</td>\n      <td>{'height': 1350, 'width': 1080}</td>\n      <td>[{'config_height': 800, 'config_width': 640, '...</td>\n      <td>https://scontent-lax3-1.cdninstagram.com/v/t51...</td>\n      <td>{'count': 17}</td>\n      <td>{'count': 0, 'edges': []}</td>\n      <td>...</td>\n      <td>0.0</td>\n      <td>NaN</td>\n      <td>NaN</td>\n      <td>NaN</td>\n      <td>NaN</td>\n      <td>NaN</td>\n      <td>NaN</td>\n      <td>NaN</td>\n      <td>NaN</td>\n      <td>NaN</td>\n    </tr>\n    <tr>\n      <th>1</th>\n      <td>GraphVideo</td>\n      <td>None</td>\n      <td>1.0</td>\n      <td>0.0</td>\n      <td>0.0</td>\n      <td>{'height': 937, 'width': 750}</td>\n      <td>[{'config_height': 800, 'config_width': 640, '...</td>\n      <td>https://scontent-lax3-1.cdninstagram.com/v/t51...</td>\n      <td>{'count': 234}</td>\n      <td>{'count': 28, 'edges': [{'node': {'created_at'...</td>\n      <td>...</td>\n      <td>0.0</td>\n      <td>{'is_dash_eligible': True, 'number_of_qualitie...</td>\n      <td>None</td>\n      <td>1.0</td>\n      <td>feed</td>\n      <td></td>\n      <td>18.833</td>\n      <td>https://scontent-lax3-1.cdninstagram.com/v/t50...</td>\n      <td>2740.0</td>\n      <td>NaN</td>\n    </tr>\n    <tr>\n      <th>2</th>\n      <td>GraphImage</td>\n      <td>Photo by Happy in Drago Centro with @mpsiox, @...</td>\n      <td>0.0</td>\n      <td>0.0</td>\n      <td>0.0</td>\n      <td>{'height': 1080, 'width': 1080}</td>\n      <td>[{'config_height': 640, 'config_width': 640, '...</td>\n      <td>https://scontent-lax3-1.cdninstagram.com/v/t51...</td>\n      <td>{'count': 49}</td>\n      <td>{'count': 3, 'edges': [{'node': {'created_at':...</td>\n      <td>...</td>\n      <td>0.0</td>\n      <td>NaN</td>\n      <td>NaN</td>\n      <td>NaN</td>\n      <td>NaN</td>\n      <td>NaN</td>\n      <td>NaN</td>\n      <td>NaN</td>\n      <td>NaN</td>\n      <td>NaN</td>\n    </tr>\n  </tbody>\n</table>\n<p>3 rows × 50 columns</p>\n</div>"
     },
     "metadata": {},
     "execution_count": 9
    }
   ],
   "source": [
    "temp.head(3)"
   ]
  },
  {
   "cell_type": "code",
   "execution_count": 10,
   "metadata": {},
   "outputs": [],
   "source": [
    "json_fnames = [f.split('.json')[0] for f in json_files]\n",
    "json_fnamesS = pd.Series(json_fnames)\n",
    "temp['file_name'] = json_fnamesS"
   ]
  },
  {
   "cell_type": "code",
   "execution_count": 11,
   "metadata": {},
   "outputs": [
    {
     "output_type": "stream",
     "name": "stdout",
     "text": "(1106, 51)\n"
    }
   ],
   "source": [
    "temp2 = temp[temp['__typename'] == \"GraphImage\"]\n",
    "print(temp2.shape)"
   ]
  },
  {
   "cell_type": "code",
   "execution_count": 12,
   "metadata": {},
   "outputs": [],
   "source": [
    "df = temp2[['file_name', 'accessibility_caption', 'display_url', 'edge_liked_by', 'id', 'is_ad', 'location', 'owner', 'taken_at_timestamp']]"
   ]
  },
  {
   "cell_type": "code",
   "execution_count": 13,
   "metadata": {},
   "outputs": [
    {
     "output_type": "execute_result",
     "data": {
      "text/plain": "                 file_name                              accessibility_caption  \\\n0  2020-03-01_00-09-37_UTC  Photo by Amanda Berkowitz in Maccheroni Republ...   \n2  2020-03-01_01-07-11_UTC  Photo by Happy in Drago Centro with @mpsiox, @...   \n3  2020-03-01_01-31-03_UTC  Photo by Redbird in Redbird. Image may contain...   \n4  2020-03-01_01-44-20_UTC  Photo by The Coolers in The Redwood Bar with @...   \n5  2020-03-01_01-46-16_UTC  Photo by DRAGO Centro in Drago Centro. Image m...   \n\n                                         display_url  edge_liked_by  \\\n0  https://scontent-lax3-1.cdninstagram.com/v/t51...  {'count': 17}   \n2  https://scontent-lax3-1.cdninstagram.com/v/t51...  {'count': 49}   \n3  https://scontent-lax3-1.cdninstagram.com/v/t51...  {'count': 71}   \n4  https://scontent-lax3-1.cdninstagram.com/v/t51...  {'count': 45}   \n5  https://scontent-lax3-1.cdninstagram.com/v/t51...  {'count': 46}   \n\n                    id  is_ad  \\\n0  2254869203465042645    0.0   \n2  2254898176307906834    0.0   \n3  2254910189599787551    0.0   \n4  2254916876981567398    0.0   \n5  2254917851620553674    0.0   \n\n                                            location  \\\n0  {'has_public_page': True, 'id': 58466590, 'lat...   \n2  {'has_public_page': True, 'id': 219692297, 'la...   \n3  {'has_public_page': True, 'id': 513097043, 'la...   \n4  {'has_public_page': True, 'id': 677627, 'lat':...   \n5  {'has_public_page': True, 'id': 219692297, 'la...   \n\n                                               owner  taken_at_timestamp  \n0  {'blocked_by_viewer': False, 'edge_owner_to_ti...        1.583021e+09  \n2  {'blocked_by_viewer': False, 'edge_owner_to_ti...        1.583025e+09  \n3  {'blocked_by_viewer': False, 'edge_owner_to_ti...        1.583026e+09  \n4  {'blocked_by_viewer': False, 'edge_owner_to_ti...        1.583027e+09  \n5  {'blocked_by_viewer': False, 'edge_owner_to_ti...        1.583027e+09  ",
      "text/html": "<div>\n<style scoped>\n    .dataframe tbody tr th:only-of-type {\n        vertical-align: middle;\n    }\n\n    .dataframe tbody tr th {\n        vertical-align: top;\n    }\n\n    .dataframe thead th {\n        text-align: right;\n    }\n</style>\n<table border=\"1\" class=\"dataframe\">\n  <thead>\n    <tr style=\"text-align: right;\">\n      <th></th>\n      <th>file_name</th>\n      <th>accessibility_caption</th>\n      <th>display_url</th>\n      <th>edge_liked_by</th>\n      <th>id</th>\n      <th>is_ad</th>\n      <th>location</th>\n      <th>owner</th>\n      <th>taken_at_timestamp</th>\n    </tr>\n  </thead>\n  <tbody>\n    <tr>\n      <th>0</th>\n      <td>2020-03-01_00-09-37_UTC</td>\n      <td>Photo by Amanda Berkowitz in Maccheroni Republ...</td>\n      <td>https://scontent-lax3-1.cdninstagram.com/v/t51...</td>\n      <td>{'count': 17}</td>\n      <td>2254869203465042645</td>\n      <td>0.0</td>\n      <td>{'has_public_page': True, 'id': 58466590, 'lat...</td>\n      <td>{'blocked_by_viewer': False, 'edge_owner_to_ti...</td>\n      <td>1.583021e+09</td>\n    </tr>\n    <tr>\n      <th>2</th>\n      <td>2020-03-01_01-07-11_UTC</td>\n      <td>Photo by Happy in Drago Centro with @mpsiox, @...</td>\n      <td>https://scontent-lax3-1.cdninstagram.com/v/t51...</td>\n      <td>{'count': 49}</td>\n      <td>2254898176307906834</td>\n      <td>0.0</td>\n      <td>{'has_public_page': True, 'id': 219692297, 'la...</td>\n      <td>{'blocked_by_viewer': False, 'edge_owner_to_ti...</td>\n      <td>1.583025e+09</td>\n    </tr>\n    <tr>\n      <th>3</th>\n      <td>2020-03-01_01-31-03_UTC</td>\n      <td>Photo by Redbird in Redbird. Image may contain...</td>\n      <td>https://scontent-lax3-1.cdninstagram.com/v/t51...</td>\n      <td>{'count': 71}</td>\n      <td>2254910189599787551</td>\n      <td>0.0</td>\n      <td>{'has_public_page': True, 'id': 513097043, 'la...</td>\n      <td>{'blocked_by_viewer': False, 'edge_owner_to_ti...</td>\n      <td>1.583026e+09</td>\n    </tr>\n    <tr>\n      <th>4</th>\n      <td>2020-03-01_01-44-20_UTC</td>\n      <td>Photo by The Coolers in The Redwood Bar with @...</td>\n      <td>https://scontent-lax3-1.cdninstagram.com/v/t51...</td>\n      <td>{'count': 45}</td>\n      <td>2254916876981567398</td>\n      <td>0.0</td>\n      <td>{'has_public_page': True, 'id': 677627, 'lat':...</td>\n      <td>{'blocked_by_viewer': False, 'edge_owner_to_ti...</td>\n      <td>1.583027e+09</td>\n    </tr>\n    <tr>\n      <th>5</th>\n      <td>2020-03-01_01-46-16_UTC</td>\n      <td>Photo by DRAGO Centro in Drago Centro. Image m...</td>\n      <td>https://scontent-lax3-1.cdninstagram.com/v/t51...</td>\n      <td>{'count': 46}</td>\n      <td>2254917851620553674</td>\n      <td>0.0</td>\n      <td>{'has_public_page': True, 'id': 219692297, 'la...</td>\n      <td>{'blocked_by_viewer': False, 'edge_owner_to_ti...</td>\n      <td>1.583027e+09</td>\n    </tr>\n  </tbody>\n</table>\n</div>"
     },
     "metadata": {},
     "execution_count": 13
    }
   ],
   "source": [
    "df.head()"
   ]
  },
  {
   "cell_type": "code",
   "execution_count": 14,
   "metadata": {},
   "outputs": [],
   "source": [
    "df.to_csv(\"post_jsons_df_hpc.csv\")"
   ]
  },
  {
   "cell_type": "code",
   "execution_count": null,
   "metadata": {},
   "outputs": [],
   "source": []
  },
  {
   "cell_type": "code",
   "execution_count": 40,
   "metadata": {},
   "outputs": [],
   "source": [
    "# Read in text descrip files (hashtags)"
   ]
  },
  {
   "cell_type": "code",
   "execution_count": 15,
   "metadata": {},
   "outputs": [],
   "source": [
    "def read_txt(file):\n",
    "    text = open(file, \"r\", encoding=\"utf8\").read()\n",
    "    return text   # return as string\n",
    "\n",
    "\n",
    "def get_ht(text):\n",
    "    ht = re.findall(r\"#(\\w+)\", text)\n",
    "    return ht"
   ]
  },
  {
   "cell_type": "code",
   "execution_count": 16,
   "metadata": {},
   "outputs": [],
   "source": [
    "texts = []\n",
    "\n",
    "for f in txt_files:\n",
    "    text = open(f, 'r', encoding=\"utf8\").read()\n",
    "    texts.append(text) "
   ]
  },
  {
   "cell_type": "code",
   "execution_count": null,
   "metadata": {},
   "outputs": [],
   "source": []
  },
  {
   "cell_type": "code",
   "execution_count": 17,
   "metadata": {},
   "outputs": [],
   "source": [
    "texts = list(map(read_txt, txt_files))\n",
    "hashtags = list(map(get_ht, texts))"
   ]
  },
  {
   "cell_type": "code",
   "execution_count": 18,
   "metadata": {},
   "outputs": [],
   "source": [
    "# get file names\n",
    "txt_fnames = [f.split('.txt')[0] for f in txt_files]\n",
    "\n",
    "# convert all to series, and concat them to a df\n",
    "textsS = pd.Series(texts)\n",
    "hashtagsS = pd.Series(hashtags)\n",
    "txt_fnamesS = pd.Series(txt_fnames)\n",
    "\n",
    "df_txt = pd.DataFrame(pd.concat([txt_fnamesS, textsS, hashtagsS], axis=1))\n",
    "df_txt.columns = ['file_name', 'descrip', 'hashtags']"
   ]
  },
  {
   "cell_type": "code",
   "execution_count": 19,
   "metadata": {},
   "outputs": [],
   "source": [
    "df_txt.to_csv(\"df_txt_hpc.csv\")"
   ]
  },
  {
   "cell_type": "code",
   "execution_count": null,
   "metadata": {},
   "outputs": [],
   "source": []
  },
  {
   "cell_type": "code",
   "execution_count": 20,
   "metadata": {},
   "outputs": [],
   "source": [
    "# Join the json df and txt df by their common filename"
   ]
  },
  {
   "cell_type": "code",
   "execution_count": 21,
   "metadata": {},
   "outputs": [
    {
     "output_type": "stream",
     "name": "stdout",
     "text": "Index(['file_name', 'descrip', 'hashtags'], dtype='object')\nIndex(['file_name', 'accessibility_caption', 'display_url', 'edge_liked_by',\n       'id', 'is_ad', 'location', 'owner', 'taken_at_timestamp'],\n      dtype='object')\n"
    }
   ],
   "source": [
    "print(df_txt.columns)\n",
    "print(df.columns)"
   ]
  },
  {
   "cell_type": "code",
   "execution_count": 22,
   "metadata": {},
   "outputs": [
    {
     "output_type": "execute_result",
     "data": {
      "text/plain": "0    2020-03-01_00-43-27_UTC\n1    2020-03-01_01-31-03_UTC\n2    2020-03-01_01-47-51_UTC\n3    2020-03-01_02-58-19_UTC\n4    2020-03-01_03-17-28_UTC\nName: file_name, dtype: object"
     },
     "metadata": {},
     "execution_count": 22
    }
   ],
   "source": [
    "df_txt['file_name'].head()"
   ]
  },
  {
   "cell_type": "code",
   "execution_count": 23,
   "metadata": {},
   "outputs": [
    {
     "output_type": "execute_result",
     "data": {
      "text/plain": "<bound method NDFrame.head of 0       2020-03-01_00-09-37_UTC\n2       2020-03-01_01-07-11_UTC\n3       2020-03-01_01-31-03_UTC\n4       2020-03-01_01-44-20_UTC\n5       2020-03-01_01-46-16_UTC\n                 ...           \n1581    2020-03-26_21-31-22_UTC\n1582    2020-03-26_21-36-44_UTC\n1584    2020-03-26_22-22-54_UTC\n1585    2020-03-26_22-30-54_UTC\n1587    2020-03-26_23-58-53_UTC\nName: file_name, Length: 1106, dtype: object>"
     },
     "metadata": {},
     "execution_count": 23
    }
   ],
   "source": [
    "df['file_name'].head"
   ]
  },
  {
   "cell_type": "code",
   "execution_count": 24,
   "metadata": {},
   "outputs": [
    {
     "output_type": "stream",
     "name": "stdout",
     "text": "(821, 11)\n"
    }
   ],
   "source": [
    "# merge the post metadata (jsons) df and text descrip df (txt)\n",
    "merged = pd.merge(df, df_txt, on='file_name')\n",
    "print(merged.shape)"
   ]
  },
  {
   "cell_type": "code",
   "execution_count": 25,
   "metadata": {},
   "outputs": [
    {
     "output_type": "execute_result",
     "data": {
      "text/plain": "                 file_name                              accessibility_caption  \\\n0  2020-03-01_01-31-03_UTC  Photo by Redbird in Redbird. Image may contain...   \n1  2020-03-01_01-47-51_UTC  Photo by Josie Diaz Trunnell in Redbird with @...   \n2  2020-03-01_02-58-19_UTC  Photo by 𝗘𝗻𝗴𝗹𝗶𝘀𝗵𝗺𝗮𝗻 & 𝗰𝗼𝗿𝗴𝗶 in FIGat7th. Image...   \n3  2020-03-01_03-34-54_UTC  Photo by James J. Ackerman in Redbird. Image m...   \n4  2020-03-01_04-47-43_UTC  Photo by Scott Olson in FIGat7th. Image may co...   \n\n                                         display_url  edge_liked_by  \\\n0  https://scontent-lax3-1.cdninstagram.com/v/t51...  {'count': 71}   \n1  https://scontent-lax3-1.cdninstagram.com/v/t51...  {'count': 13}   \n2  https://scontent-lax3-2.cdninstagram.com/v/t51...  {'count': 33}   \n3  https://scontent-lax3-1.cdninstagram.com/v/t51...  {'count': 12}   \n4  https://scontent-lax3-1.cdninstagram.com/v/t51...  {'count': 14}   \n\n                    id  is_ad  \\\n0  2254910189599787551    0.0   \n1  2254918644671070750    0.0   \n2  2254954116237586018    0.0   \n3  2254972524022866922    0.0   \n4  2255009173700278683    0.0   \n\n                                            location  \\\n0  {'has_public_page': True, 'id': 513097043, 'la...   \n1  {'has_public_page': True, 'id': 513097043, 'la...   \n2  {'has_public_page': True, 'id': 4817825, 'lat'...   \n3  {'has_public_page': True, 'id': 513097043, 'la...   \n4  {'has_public_page': True, 'id': 4817825, 'lat'...   \n\n                                               owner  taken_at_timestamp  \\\n0  {'blocked_by_viewer': False, 'edge_owner_to_ti...        1.583026e+09   \n1  {'blocked_by_viewer': False, 'edge_owner_to_ti...        1.583027e+09   \n2  {'blocked_by_viewer': False, 'edge_owner_to_ti...        1.583031e+09   \n3  {'blocked_by_viewer': False, 'edge_owner_to_ti...        1.583034e+09   \n4  {'blocked_by_viewer': False, 'edge_owner_to_ti...        1.583038e+09   \n\n                                             descrip  \\\n0  Wedding guests, by @KatiePritchard. Visit prof...   \n1                             Trunnell date night!\\n   \n2  Green grass \\n#Corgi #CorgiAddict #CorgiCommun...   \n3  Merrill Rodin at @redbirdla with @marthaackerm...   \n4                        Somebody call the LAFD! 🔥\\n   \n\n                                            hashtags  \n0               [RedbirdLA, DTLAWedding, weddingdog]  \n1                                                 []  \n2  [Corgi, CorgiAddict, CorgiCommunity, コーギー, 코기,...  \n3  [perspective, artinlife, downtown, losangeles_la]  \n4                                                 []  ",
      "text/html": "<div>\n<style scoped>\n    .dataframe tbody tr th:only-of-type {\n        vertical-align: middle;\n    }\n\n    .dataframe tbody tr th {\n        vertical-align: top;\n    }\n\n    .dataframe thead th {\n        text-align: right;\n    }\n</style>\n<table border=\"1\" class=\"dataframe\">\n  <thead>\n    <tr style=\"text-align: right;\">\n      <th></th>\n      <th>file_name</th>\n      <th>accessibility_caption</th>\n      <th>display_url</th>\n      <th>edge_liked_by</th>\n      <th>id</th>\n      <th>is_ad</th>\n      <th>location</th>\n      <th>owner</th>\n      <th>taken_at_timestamp</th>\n      <th>descrip</th>\n      <th>hashtags</th>\n    </tr>\n  </thead>\n  <tbody>\n    <tr>\n      <th>0</th>\n      <td>2020-03-01_01-31-03_UTC</td>\n      <td>Photo by Redbird in Redbird. Image may contain...</td>\n      <td>https://scontent-lax3-1.cdninstagram.com/v/t51...</td>\n      <td>{'count': 71}</td>\n      <td>2254910189599787551</td>\n      <td>0.0</td>\n      <td>{'has_public_page': True, 'id': 513097043, 'la...</td>\n      <td>{'blocked_by_viewer': False, 'edge_owner_to_ti...</td>\n      <td>1.583026e+09</td>\n      <td>Wedding guests, by @KatiePritchard. Visit prof...</td>\n      <td>[RedbirdLA, DTLAWedding, weddingdog]</td>\n    </tr>\n    <tr>\n      <th>1</th>\n      <td>2020-03-01_01-47-51_UTC</td>\n      <td>Photo by Josie Diaz Trunnell in Redbird with @...</td>\n      <td>https://scontent-lax3-1.cdninstagram.com/v/t51...</td>\n      <td>{'count': 13}</td>\n      <td>2254918644671070750</td>\n      <td>0.0</td>\n      <td>{'has_public_page': True, 'id': 513097043, 'la...</td>\n      <td>{'blocked_by_viewer': False, 'edge_owner_to_ti...</td>\n      <td>1.583027e+09</td>\n      <td>Trunnell date night!\\n</td>\n      <td>[]</td>\n    </tr>\n    <tr>\n      <th>2</th>\n      <td>2020-03-01_02-58-19_UTC</td>\n      <td>Photo by 𝗘𝗻𝗴𝗹𝗶𝘀𝗵𝗺𝗮𝗻 &amp; 𝗰𝗼𝗿𝗴𝗶 in FIGat7th. Image...</td>\n      <td>https://scontent-lax3-2.cdninstagram.com/v/t51...</td>\n      <td>{'count': 33}</td>\n      <td>2254954116237586018</td>\n      <td>0.0</td>\n      <td>{'has_public_page': True, 'id': 4817825, 'lat'...</td>\n      <td>{'blocked_by_viewer': False, 'edge_owner_to_ti...</td>\n      <td>1.583031e+09</td>\n      <td>Green grass \\n#Corgi #CorgiAddict #CorgiCommun...</td>\n      <td>[Corgi, CorgiAddict, CorgiCommunity, コーギー, 코기,...</td>\n    </tr>\n    <tr>\n      <th>3</th>\n      <td>2020-03-01_03-34-54_UTC</td>\n      <td>Photo by James J. Ackerman in Redbird. Image m...</td>\n      <td>https://scontent-lax3-1.cdninstagram.com/v/t51...</td>\n      <td>{'count': 12}</td>\n      <td>2254972524022866922</td>\n      <td>0.0</td>\n      <td>{'has_public_page': True, 'id': 513097043, 'la...</td>\n      <td>{'blocked_by_viewer': False, 'edge_owner_to_ti...</td>\n      <td>1.583034e+09</td>\n      <td>Merrill Rodin at @redbirdla with @marthaackerm...</td>\n      <td>[perspective, artinlife, downtown, losangeles_la]</td>\n    </tr>\n    <tr>\n      <th>4</th>\n      <td>2020-03-01_04-47-43_UTC</td>\n      <td>Photo by Scott Olson in FIGat7th. Image may co...</td>\n      <td>https://scontent-lax3-1.cdninstagram.com/v/t51...</td>\n      <td>{'count': 14}</td>\n      <td>2255009173700278683</td>\n      <td>0.0</td>\n      <td>{'has_public_page': True, 'id': 4817825, 'lat'...</td>\n      <td>{'blocked_by_viewer': False, 'edge_owner_to_ti...</td>\n      <td>1.583038e+09</td>\n      <td>Somebody call the LAFD! 🔥\\n</td>\n      <td>[]</td>\n    </tr>\n  </tbody>\n</table>\n</div>"
     },
     "metadata": {},
     "execution_count": 25
    }
   ],
   "source": [
    "merged.head()"
   ]
  },
  {
   "cell_type": "code",
   "execution_count": 26,
   "metadata": {},
   "outputs": [],
   "source": [
    "merged.to_csv(\"posts_merged_df_hpc.csv\")"
   ]
  },
  {
   "cell_type": "code",
   "execution_count": null,
   "metadata": {},
   "outputs": [],
   "source": []
  }
 ]
}