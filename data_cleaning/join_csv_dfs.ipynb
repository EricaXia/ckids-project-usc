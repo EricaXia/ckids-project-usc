{
 "nbformat": 4,
 "nbformat_minor": 2,
 "metadata": {
  "language_info": {
   "name": "python",
   "codemirror_mode": {
    "name": "ipython",
    "version": 3
   },
   "version": "3.7.6-final"
  },
  "orig_nbformat": 2,
  "file_extension": ".py",
  "mimetype": "text/x-python",
  "name": "python",
  "npconvert_exporter": "python",
  "pygments_lexer": "ipython3",
  "version": 3,
  "kernelspec": {
   "name": "python37664bitckidscondaeba5e997e95d433391cca1cee29345d7",
   "display_name": "Python 3.7.6 64-bit ('ckids': conda)"
  }
 },
 "cells": [
  {
   "cell_type": "code",
   "execution_count": 1,
   "metadata": {},
   "outputs": [],
   "source": [
    "import pandas as pd\n",
    "import numpy as np"
   ]
  },
  {
   "cell_type": "code",
   "execution_count": 2,
   "metadata": {},
   "outputs": [],
   "source": [
    "df1 = pd.read_csv(r'data_main\\CSV_data\\posts_merged_df_hpc.csv', index_col=0)\n",
    "df2 = pd.read_csv(r'data_main\\CSV_data\\posts_merged_df_1.csv', index_col=0)\n",
    "df3 = pd.read_csv(r'data_main\\CSV_data\\posts_merged_df_3.csv', index_col=0)\n",
    "df4 = pd.read_csv(r'data_main\\CSV_data\\posts_merged_df_fs.csv', index_col=0)\n",
    ""
   ]
  },
  {
   "cell_type": "code",
   "execution_count": 3,
   "metadata": {},
   "outputs": [
    {
     "output_type": "stream",
     "name": "stdout",
     "text": "(821, 11)\n(801, 11)\n(148, 11)\n(208, 11)\n"
    }
   ],
   "source": [
    "print(df1.shape)\n",
    "print(df2.shape)\n",
    "print(df3.shape)\n",
    "print(df4.shape)"
   ]
  },
  {
   "cell_type": "code",
   "execution_count": 4,
   "metadata": {},
   "outputs": [
    {
     "output_type": "execute_result",
     "data": {
      "text/plain": "(1978, 11)"
     },
     "metadata": {},
     "execution_count": 4
    }
   ],
   "source": [
    "res = df1.append(df2)\n",
    "res2 = res.append(df3)\n",
    "res3 = res2.append(df4)\n",
    "res3.shape"
   ]
  },
  {
   "cell_type": "code",
   "execution_count": 5,
   "metadata": {},
   "outputs": [],
   "source": [
    "res3.to_csv('posts_merged_main.csv', index=None)"
   ]
  },
  {
   "cell_type": "code",
   "execution_count": null,
   "metadata": {},
   "outputs": [],
   "source": []
  }
 ]
}